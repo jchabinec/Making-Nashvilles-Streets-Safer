{
 "cells": [
  {
   "cell_type": "code",
   "execution_count": 1,
   "metadata": {},
   "outputs": [],
   "source": [
    "import pandas as pd\n",
    "import datetime as dt\n",
    "import seaborn as sns\n",
    "from matplotlib import pyplot as plt"
   ]
  },
  {
   "cell_type": "code",
   "execution_count": 2,
   "metadata": {},
   "outputs": [
    {
     "data": {
      "text/html": [
       "<div>\n",
       "<style scoped>\n",
       "    .dataframe tbody tr th:only-of-type {\n",
       "        vertical-align: middle;\n",
       "    }\n",
       "\n",
       "    .dataframe tbody tr th {\n",
       "        vertical-align: top;\n",
       "    }\n",
       "\n",
       "    .dataframe thead th {\n",
       "        text-align: right;\n",
       "    }\n",
       "</style>\n",
       "<table border=\"1\" class=\"dataframe\">\n",
       "  <thead>\n",
       "    <tr style=\"text-align: right;\">\n",
       "      <th></th>\n",
       "      <th>Unnamed: 0</th>\n",
       "      <th>accident_number</th>\n",
       "      <th>number_of_motor_vehicles</th>\n",
       "      <th>number_of_injuries</th>\n",
       "      <th>number_of_fatalities</th>\n",
       "      <th>reporting_officer</th>\n",
       "      <th>zip</th>\n",
       "      <th>rpa</th>\n",
       "      <th>lat</th>\n",
       "      <th>long</th>\n",
       "    </tr>\n",
       "  </thead>\n",
       "  <tbody>\n",
       "    <tr>\n",
       "      <th>count</th>\n",
       "      <td>7274.000000</td>\n",
       "      <td>7.274000e+03</td>\n",
       "      <td>7274.000000</td>\n",
       "      <td>7274.000000</td>\n",
       "      <td>7274.0</td>\n",
       "      <td>7.273000e+03</td>\n",
       "      <td>7270.000000</td>\n",
       "      <td>7270.000000</td>\n",
       "      <td>7269.000000</td>\n",
       "      <td>7269.000000</td>\n",
       "    </tr>\n",
       "    <tr>\n",
       "      <th>mean</th>\n",
       "      <td>90819.412015</td>\n",
       "      <td>2.019534e+10</td>\n",
       "      <td>1.825406</td>\n",
       "      <td>0.441985</td>\n",
       "      <td>0.0</td>\n",
       "      <td>7.335528e+05</td>\n",
       "      <td>37154.355846</td>\n",
       "      <td>1606.261073</td>\n",
       "      <td>36.238892</td>\n",
       "      <td>-86.724281</td>\n",
       "    </tr>\n",
       "    <tr>\n",
       "      <th>std</th>\n",
       "      <td>52169.908214</td>\n",
       "      <td>1.993812e+07</td>\n",
       "      <td>0.737168</td>\n",
       "      <td>0.805250</td>\n",
       "      <td>0.0</td>\n",
       "      <td>1.149628e+06</td>\n",
       "      <td>48.205398</td>\n",
       "      <td>576.921745</td>\n",
       "      <td>0.042791</td>\n",
       "      <td>0.022818</td>\n",
       "    </tr>\n",
       "    <tr>\n",
       "      <th>min</th>\n",
       "      <td>15.000000</td>\n",
       "      <td>2.017000e+10</td>\n",
       "      <td>0.000000</td>\n",
       "      <td>0.000000</td>\n",
       "      <td>0.0</td>\n",
       "      <td>1.010640e+05</td>\n",
       "      <td>37013.000000</td>\n",
       "      <td>1101.000000</td>\n",
       "      <td>36.073300</td>\n",
       "      <td>-86.817700</td>\n",
       "    </tr>\n",
       "    <tr>\n",
       "      <th>25%</th>\n",
       "      <td>45412.250000</td>\n",
       "      <td>2.018036e+10</td>\n",
       "      <td>2.000000</td>\n",
       "      <td>0.000000</td>\n",
       "      <td>0.0</td>\n",
       "      <td>2.069620e+05</td>\n",
       "      <td>37115.000000</td>\n",
       "      <td>1425.000000</td>\n",
       "      <td>36.197000</td>\n",
       "      <td>-86.741600</td>\n",
       "    </tr>\n",
       "    <tr>\n",
       "      <th>50%</th>\n",
       "      <td>91244.500000</td>\n",
       "      <td>2.019060e+10</td>\n",
       "      <td>2.000000</td>\n",
       "      <td>0.000000</td>\n",
       "      <td>0.0</td>\n",
       "      <td>3.113330e+05</td>\n",
       "      <td>37115.000000</td>\n",
       "      <td>1607.000000</td>\n",
       "      <td>36.248700</td>\n",
       "      <td>-86.719900</td>\n",
       "    </tr>\n",
       "    <tr>\n",
       "      <th>75%</th>\n",
       "      <td>136352.000000</td>\n",
       "      <td>2.021042e+10</td>\n",
       "      <td>2.000000</td>\n",
       "      <td>1.000000</td>\n",
       "      <td>0.0</td>\n",
       "      <td>4.933040e+05</td>\n",
       "      <td>37206.000000</td>\n",
       "      <td>1731.000000</td>\n",
       "      <td>36.264400</td>\n",
       "      <td>-86.711500</td>\n",
       "    </tr>\n",
       "    <tr>\n",
       "      <th>max</th>\n",
       "      <td>180785.000000</td>\n",
       "      <td>2.024015e+10</td>\n",
       "      <td>7.000000</td>\n",
       "      <td>8.000000</td>\n",
       "      <td>0.0</td>\n",
       "      <td>4.013729e+06</td>\n",
       "      <td>37228.000000</td>\n",
       "      <td>15921.000000</td>\n",
       "      <td>36.319600</td>\n",
       "      <td>-86.443800</td>\n",
       "    </tr>\n",
       "  </tbody>\n",
       "</table>\n",
       "</div>"
      ],
      "text/plain": [
       "          Unnamed: 0  accident_number  number_of_motor_vehicles  \\\n",
       "count    7274.000000     7.274000e+03               7274.000000   \n",
       "mean    90819.412015     2.019534e+10                  1.825406   \n",
       "std     52169.908214     1.993812e+07                  0.737168   \n",
       "min        15.000000     2.017000e+10                  0.000000   \n",
       "25%     45412.250000     2.018036e+10                  2.000000   \n",
       "50%     91244.500000     2.019060e+10                  2.000000   \n",
       "75%    136352.000000     2.021042e+10                  2.000000   \n",
       "max    180785.000000     2.024015e+10                  7.000000   \n",
       "\n",
       "       number_of_injuries  number_of_fatalities  reporting_officer  \\\n",
       "count         7274.000000                7274.0       7.273000e+03   \n",
       "mean             0.441985                   0.0       7.335528e+05   \n",
       "std              0.805250                   0.0       1.149628e+06   \n",
       "min              0.000000                   0.0       1.010640e+05   \n",
       "25%              0.000000                   0.0       2.069620e+05   \n",
       "50%              0.000000                   0.0       3.113330e+05   \n",
       "75%              1.000000                   0.0       4.933040e+05   \n",
       "max              8.000000                   0.0       4.013729e+06   \n",
       "\n",
       "                zip           rpa          lat         long  \n",
       "count   7270.000000   7270.000000  7269.000000  7269.000000  \n",
       "mean   37154.355846   1606.261073    36.238892   -86.724281  \n",
       "std       48.205398    576.921745     0.042791     0.022818  \n",
       "min    37013.000000   1101.000000    36.073300   -86.817700  \n",
       "25%    37115.000000   1425.000000    36.197000   -86.741600  \n",
       "50%    37115.000000   1607.000000    36.248700   -86.719900  \n",
       "75%    37206.000000   1731.000000    36.264400   -86.711500  \n",
       "max    37228.000000  15921.000000    36.319600   -86.443800  "
      ]
     },
     "execution_count": 2,
     "metadata": {},
     "output_type": "execute_result"
    }
   ],
   "source": [
    "crashes = pd.read_csv('../data/clean/crashes.csv')\n",
    "crashes.describe()"
   ]
  },
  {
   "cell_type": "code",
   "execution_count": 3,
   "metadata": {},
   "outputs": [
    {
     "data": {
      "text/plain": [
       "Unnamed: 0                    0\n",
       "accident_number               0\n",
       "date_and_time                 0\n",
       "number_of_motor_vehicles      0\n",
       "number_of_injuries            0\n",
       "number_of_fatalities          0\n",
       "hit_and_run                   0\n",
       "reporting_officer             1\n",
       "collision_type_description    0\n",
       "weather_description           0\n",
       "illumination_description      0\n",
       "harmfuldescriptions           0\n",
       "street_address                0\n",
       "city                          0\n",
       "state                         0\n",
       "zip                           4\n",
       "rpa                           4\n",
       "precinct                      0\n",
       "lat                           5\n",
       "long                          5\n",
       "property_damage               0\n",
       "date                          0\n",
       "dtype: int64"
      ]
     },
     "execution_count": 3,
     "metadata": {},
     "output_type": "execute_result"
    }
   ],
   "source": [
    "crashes.isna().sum(axis = 0)"
   ]
  },
  {
   "cell_type": "markdown",
   "metadata": {},
   "source": [
    "Location data is important for the first step of identifying \"hot spots\", so any nulls in these columns will need to be addressed. The records with nulls for location fields (`lat`, `long`, & `mapped_location`) do seem to be from actual events and not errors, but given that at the time of this analysis they represent 0.04% of the data, I don't believe removeing them will negatively impact the overall analysis."
   ]
  },
  {
   "cell_type": "code",
   "execution_count": 4,
   "metadata": {},
   "outputs": [],
   "source": [
    "crashes = crashes.dropna()"
   ]
  },
  {
   "cell_type": "code",
   "execution_count": 5,
   "metadata": {},
   "outputs": [
    {
     "data": {
      "text/plain": [
       "Unnamed: 0                    0\n",
       "accident_number               0\n",
       "date_and_time                 0\n",
       "number_of_motor_vehicles      0\n",
       "number_of_injuries            0\n",
       "number_of_fatalities          0\n",
       "hit_and_run                   0\n",
       "reporting_officer             0\n",
       "collision_type_description    0\n",
       "weather_description           0\n",
       "illumination_description      0\n",
       "harmfuldescriptions           0\n",
       "street_address                0\n",
       "city                          0\n",
       "state                         0\n",
       "zip                           0\n",
       "rpa                           0\n",
       "precinct                      0\n",
       "lat                           0\n",
       "long                          0\n",
       "property_damage               0\n",
       "date                          0\n",
       "dtype: int64"
      ]
     },
     "execution_count": 5,
     "metadata": {},
     "output_type": "execute_result"
    }
   ],
   "source": [
    "crashes.isna().sum(axis = 0)"
   ]
  },
  {
   "cell_type": "code",
   "execution_count": 6,
   "metadata": {},
   "outputs": [],
   "source": [
    "crashes.to_csv('../data/clean/crashes.csv')"
   ]
  },
  {
   "cell_type": "markdown",
   "metadata": {},
   "source": [
    "No fatalities are reported in the entire dataset, which is surprising. However, these reports are only as accurate as the officers recording them, and they may be busy attending to those involved and quickly filling these out as soon as they arrive or or after they've left. That said, I will ignore the column for this analysis but leave it in the dataset, so it can be used in the future if numbers start showing up."
   ]
  },
  {
   "cell_type": "markdown",
   "metadata": {},
   "source": [
    "Now let's look at some other data sets that may have an impact on road safety."
   ]
  },
  {
   "cell_type": "markdown",
   "metadata": {},
   "source": [
    "First, 311 Complaints:"
   ]
  },
  {
   "cell_type": "code",
   "execution_count": 7,
   "metadata": {},
   "outputs": [
    {
     "name": "stdout",
     "output_type": "stream",
     "text": [
      "<class 'pandas.core.frame.DataFrame'>\n",
      "RangeIndex: 11176 entries, 0 to 11175\n",
      "Data columns (total 21 columns):\n",
      " #   Column                     Non-Null Count  Dtype  \n",
      "---  ------                     --------------  -----  \n",
      " 0   Unnamed: 0                 11176 non-null  int64  \n",
      " 1   case_number                11176 non-null  int64  \n",
      " 2   status                     11176 non-null  object \n",
      " 3   case_request               11176 non-null  object \n",
      " 4   case_subrequest            11176 non-null  object \n",
      " 5   additional_subrequest      11176 non-null  object \n",
      " 6   date_time_opened           11176 non-null  object \n",
      " 7   date_time_closed           11051 non-null  object \n",
      " 8   case_origin                11176 non-null  object \n",
      " 9   state_issue                11176 non-null  bool   \n",
      " 10  closed_when_created        11176 non-null  bool   \n",
      " 11  incident_address           11176 non-null  object \n",
      " 12  incident_city              11176 non-null  object \n",
      " 13  incident_council_district  11176 non-null  object \n",
      " 14  incident_zip_code          10972 non-null  float64\n",
      " 15  latitude                   11145 non-null  float64\n",
      " 16  longitude                  11145 non-null  float64\n",
      " 17  mapped_location            11145 non-null  object \n",
      " 18  contact_type               11176 non-null  object \n",
      " 19  parent_case                11176 non-null  object \n",
      " 20  preferred_language         11176 non-null  object \n",
      "dtypes: bool(2), float64(3), int64(2), object(14)\n",
      "memory usage: 1.6+ MB\n"
     ]
    }
   ],
   "source": [
    "nash_311 = pd.read_csv('../data/clean/nash_311.csv')\n",
    "nash_311.info()"
   ]
  },
  {
   "cell_type": "code",
   "execution_count": 8,
   "metadata": {},
   "outputs": [
    {
     "data": {
      "text/plain": [
       "Unnamed: 0                     0\n",
       "case_number                    0\n",
       "status                         0\n",
       "case_request                   0\n",
       "case_subrequest                0\n",
       "additional_subrequest          0\n",
       "date_time_opened               0\n",
       "date_time_closed             125\n",
       "case_origin                    0\n",
       "state_issue                    0\n",
       "closed_when_created            0\n",
       "incident_address               0\n",
       "incident_city                  0\n",
       "incident_council_district      0\n",
       "incident_zip_code            204\n",
       "latitude                      31\n",
       "longitude                     31\n",
       "mapped_location               31\n",
       "contact_type                   0\n",
       "parent_case                    0\n",
       "preferred_language             0\n",
       "dtype: int64"
      ]
     },
     "execution_count": 8,
     "metadata": {},
     "output_type": "execute_result"
    }
   ],
   "source": [
    "nash_311.isna().sum(axis = 0)"
   ]
  },
  {
   "cell_type": "code",
   "execution_count": 9,
   "metadata": {},
   "outputs": [],
   "source": [
    "nash_311 = nash_311.dropna(subset=['latitude', 'longitude'])"
   ]
  },
  {
   "cell_type": "code",
   "execution_count": 10,
   "metadata": {},
   "outputs": [],
   "source": [
    "nash_311.to_csv('../data/clean/nash_311.csv')"
   ]
  },
  {
   "cell_type": "markdown",
   "metadata": {},
   "source": [
    "Short-term rental properties in the area (for the purpose of this study, defined as all properties in zip codes 37206, 37216, & 37115) may inflence driver behavior, as guests staying here are either driving themselves and may not be familiar with their surroundings or are using ride-share services whose drivers also may not be familiar with the area."
   ]
  },
  {
   "cell_type": "code",
   "execution_count": 11,
   "metadata": {},
   "outputs": [
    {
     "name": "stdout",
     "output_type": "stream",
     "text": [
      "<class 'pandas.core.frame.DataFrame'>\n",
      "RangeIndex: 2872 entries, 0 to 2871\n",
      "Data columns (total 31 columns):\n",
      " #   Column                      Non-Null Count  Dtype  \n",
      "---  ------                      --------------  -----  \n",
      " 0   Unnamed: 0                  2872 non-null   int64  \n",
      " 1   index                       2872 non-null   int64  \n",
      " 2   permit                      2872 non-null   object \n",
      " 3   applicant                   2872 non-null   object \n",
      " 4   contact                     2871 non-null   object \n",
      " 5   permit_subtype_description  2872 non-null   object \n",
      " 6   permit_status               2872 non-null   object \n",
      " 7   parcel                      2872 non-null   object \n",
      " 8   date_entered                2872 non-null   object \n",
      " 9   date_issued                 2574 non-null   object \n",
      " 10  expiration_date             2872 non-null   object \n",
      " 11  address                     2872 non-null   object \n",
      " 12  city                        2872 non-null   object \n",
      " 13  state                       2872 non-null   object \n",
      " 14  zip                         2872 non-null   int64  \n",
      " 15  subdivision_lot             2872 non-null   object \n",
      " 16  purpose                     2872 non-null   object \n",
      " 17  permit_owner_name           2872 non-null   object \n",
      " 18  permit_owner_addr2          2872 non-null   object \n",
      " 19  permit_owner_city           2872 non-null   object \n",
      " 20  permit_owner_state          2872 non-null   object \n",
      " 21  permit_owner_zip            2864 non-null   object \n",
      " 22  permit_type                 2872 non-null   object \n",
      " 23  permit_subtype              2872 non-null   object \n",
      " 24  council_dist                2872 non-null   object \n",
      " 25  census_tract                2872 non-null   int64  \n",
      " 26  mapped_location             2872 non-null   object \n",
      " 27  permit_owner_addr1          2872 non-null   object \n",
      " 28  permit_owner_addr3          2872 non-null   object \n",
      " 29  lat                         2872 non-null   float64\n",
      " 30  long                        2872 non-null   float64\n",
      "dtypes: float64(2), int64(4), object(25)\n",
      "memory usage: 695.7+ KB\n"
     ]
    }
   ],
   "source": [
    "st_rentals = pd.read_csv('../data/clean/rentals.csv')\n",
    "st_rentals.info()"
   ]
  },
  {
   "cell_type": "markdown",
   "metadata": {},
   "source": [
    "Building permits and active right-of-way permits (construction occuring in the roadway) could cause congestion and unexpected slowdowns, which could lead to crashes."
   ]
  },
  {
   "cell_type": "code",
   "execution_count": 12,
   "metadata": {},
   "outputs": [],
   "source": [
    "bdlg_permits = pd.read_csv('../data/clean/bldg_permits.csv')"
   ]
  },
  {
   "cell_type": "code",
   "execution_count": 13,
   "metadata": {},
   "outputs": [],
   "source": [
    "row_permits = pd.read_csv('../data/clean/row_permits.csv')"
   ]
  },
  {
   "cell_type": "markdown",
   "metadata": {},
   "source": [
    "Nashville also maintains an inventory of pedestrian signals throughout the city, including information about their compliance with ADA regulations."
   ]
  },
  {
   "cell_type": "code",
   "execution_count": 14,
   "metadata": {},
   "outputs": [],
   "source": [
    "ped_inv = pd.read_csv('../data/clean/ped_inv.csv')"
   ]
  },
  {
   "cell_type": "markdown",
   "metadata": {},
   "source": [
    "Now is a good time to pause and look at the all of this on a map.<br><br>\n",
    "(This is better done in a separate notebook, so this will serve as a stopping point for this one. The current table will be exported to a .csv file and used in the mapping notebook. Refer to `mapping.ipynb` for the overall map(s) and next steps will follow below)"
   ]
  },
  {
   "cell_type": "markdown",
   "metadata": {},
   "source": [
    "Now we'll look at the different categorical information in our datasets."
   ]
  },
  {
   "cell_type": "code",
   "execution_count": 15,
   "metadata": {},
   "outputs": [
    {
     "name": "stdout",
     "output_type": "stream",
     "text": [
      "<class 'pandas.core.frame.DataFrame'>\n",
      "Index: 7267 entries, 0 to 7273\n",
      "Data columns (total 22 columns):\n",
      " #   Column                      Non-Null Count  Dtype  \n",
      "---  ------                      --------------  -----  \n",
      " 0   Unnamed: 0                  7267 non-null   int64  \n",
      " 1   accident_number             7267 non-null   int64  \n",
      " 2   date_and_time               7267 non-null   object \n",
      " 3   number_of_motor_vehicles    7267 non-null   float64\n",
      " 4   number_of_injuries          7267 non-null   float64\n",
      " 5   number_of_fatalities        7267 non-null   float64\n",
      " 6   hit_and_run                 7267 non-null   bool   \n",
      " 7   reporting_officer           7267 non-null   float64\n",
      " 8   collision_type_description  7267 non-null   object \n",
      " 9   weather_description         7267 non-null   object \n",
      " 10  illumination_description    7267 non-null   object \n",
      " 11  harmfuldescriptions         7267 non-null   object \n",
      " 12  street_address              7267 non-null   object \n",
      " 13  city                        7267 non-null   object \n",
      " 14  state                       7267 non-null   object \n",
      " 15  zip                         7267 non-null   float64\n",
      " 16  rpa                         7267 non-null   float64\n",
      " 17  precinct                    7267 non-null   object \n",
      " 18  lat                         7267 non-null   float64\n",
      " 19  long                        7267 non-null   float64\n",
      " 20  property_damage             7267 non-null   bool   \n",
      " 21  date                        7267 non-null   object \n",
      "dtypes: bool(2), float64(8), int64(2), object(10)\n",
      "memory usage: 1.2+ MB\n"
     ]
    }
   ],
   "source": [
    "crashes.info()"
   ]
  },
  {
   "cell_type": "code",
   "execution_count": 16,
   "metadata": {},
   "outputs": [
    {
     "data": {
      "text/plain": [
       "collision_type_description\n",
       "ANGLE                                      2574\n",
       "FRONT TO REAR                              2404\n",
       "SIDESWIPE - SAME DIRECTION                 1033\n",
       "NOT COLLISION W/MOTOR VEHICLE-TRANSPORT     661\n",
       "HEAD-ON                                     211\n",
       "SIDESWIPE - OPPOSITE DIRECTION              163\n",
       "OTHER                                        90\n",
       "REAR TO SIDE                                 57\n",
       "UNKNOWN                                      40\n",
       "REAR-TO-REAR                                 34\n",
       "Name: count, dtype: int64"
      ]
     },
     "execution_count": 16,
     "metadata": {},
     "output_type": "execute_result"
    }
   ],
   "source": [
    "crashes['collision_type_description'].value_counts()"
   ]
  },
  {
   "cell_type": "code",
   "execution_count": 17,
   "metadata": {},
   "outputs": [
    {
     "data": {
      "text/plain": [
       "weather_description\n",
       "CLEAR                     4967\n",
       "CLOUDY                    1307\n",
       "RAIN                       687\n",
       "NAN                        239\n",
       "SNOW                        28\n",
       "UNKNOWN                     17\n",
       "FOG                         12\n",
       "OTHER (NARRATIVE)            4\n",
       "SLEET, HAIL                  2\n",
       "SEVERE CROSSWIND             1\n",
       "BLOWING SAND/SOIL/DIRT       1\n",
       "BLOWING SNOW                 1\n",
       "SMOG, SMOKE                  1\n",
       "Name: count, dtype: int64"
      ]
     },
     "execution_count": 17,
     "metadata": {},
     "output_type": "execute_result"
    }
   ],
   "source": [
    "crashes['weather_description'].value_counts()"
   ]
  },
  {
   "cell_type": "markdown",
   "metadata": {},
   "source": [
    "As the overwhelming majority of crashes happen with clear or cloudy conditions, weather can be eliminated as a potential factor."
   ]
  },
  {
   "cell_type": "code",
   "execution_count": 18,
   "metadata": {},
   "outputs": [
    {
     "data": {
      "text/plain": [
       "illumination_description\n",
       "DAYLIGHT                 4983\n",
       "DARK - LIGHTED           1870\n",
       "DUSK                      167\n",
       "DARK - NOT LIGHTED        161\n",
       "DAWN                       34\n",
       "DARK-UNKNOWN LIGHTING      18\n",
       "UNKNOWN                    14\n",
       "NAN                        11\n",
       "OTHER                       9\n",
       "Name: count, dtype: int64"
      ]
     },
     "execution_count": 18,
     "metadata": {},
     "output_type": "execute_result"
    }
   ],
   "source": [
    "crashes['illumination_description'].value_counts()"
   ]
  },
  {
   "cell_type": "markdown",
   "metadata": {},
   "source": [
    "Same story for illumination, although it may be worth investigating the `DARK - NOT LIGHTED` instances to see if there is an issue with aparticular area."
   ]
  },
  {
   "cell_type": "code",
   "execution_count": 19,
   "metadata": {},
   "outputs": [
    {
     "data": {
      "text/plain": [
       "harmfuldescriptions\n",
       "MOTOR VEHICLE IN TRANSPORT                                                                      6075\n",
       "PARKED MOTOR VEHICLE                                                                             195\n",
       "PEDESTRIAN                                                                                       184\n",
       "UTILITY POLE                                                                                      98\n",
       "MOTOR VEHICLE IN TRANSPORT;PARKED MOTOR VEHICLE                                                   96\n",
       "                                                                                                ... \n",
       "MOTOR VEHICLE IN TRANSPORT;PARKED MOTOR VEHICLE;OTHER FIXED OBJECTS                                1\n",
       "MOTOR VEHICLE IN TRANSPORT;PARKED MOTOR VEHICLE;DITCH;OTHER FIXED OBJECTS;RAN OFF ROAD-RIGHT       1\n",
       "PARKED MOTOR VEHICLE;LUMINAIRE/LIGHT SUPPORT                                                       1\n",
       "OTHER OBJECT (NOT FIXED);FENCE                                                                     1\n",
       "MOTOR VEHICLE IN TRANSPORT;BUILDING;DITCH;FENCE                                                    1\n",
       "Name: count, Length: 170, dtype: int64"
      ]
     },
     "execution_count": 19,
     "metadata": {},
     "output_type": "execute_result"
    }
   ],
   "source": [
    "crashes['harmfuldescriptions'].value_counts()"
   ]
  },
  {
   "cell_type": "markdown",
   "metadata": {},
   "source": [
    "Could not find info specific to Tennessee but according to the state of Massachusetts, a \"Collision with a motot vehicle in transport\" means:<br><br>\n",
    "\"An event where a motor vehicle collides with another motor vehicle which is actively in motion on a roadway. This includes: motor vehicle in traffic on a highway, driverless motor vehicle in motion, motionless motor vehicle abandoned on a roadway, disabled motor vehicle on a roadway, etc.\"<br>(Source: https://masscrashreportmanual.com/vehicle/sequence-of-events-most-harmful-event/)<br><br>\n",
    "So this count is simply telling us that the overwhelming majority of crashes involved a vehicle travelling down th eroad, as opposed to one that was not moving.<br><br>\n",
    "It's worth looking at the collisions with pedestrians and parked vehicles. More on that later."
   ]
  },
  {
   "cell_type": "markdown",
   "metadata": {},
   "source": [
    "Now let's look at the different types of 311 complaints that have been made in the area."
   ]
  },
  {
   "cell_type": "code",
   "execution_count": 20,
   "metadata": {},
   "outputs": [
    {
     "name": "stdout",
     "output_type": "stream",
     "text": [
      "<class 'pandas.core.frame.DataFrame'>\n",
      "Index: 11145 entries, 0 to 11175\n",
      "Data columns (total 21 columns):\n",
      " #   Column                     Non-Null Count  Dtype  \n",
      "---  ------                     --------------  -----  \n",
      " 0   Unnamed: 0                 11145 non-null  int64  \n",
      " 1   case_number                11145 non-null  int64  \n",
      " 2   status                     11145 non-null  object \n",
      " 3   case_request               11145 non-null  object \n",
      " 4   case_subrequest            11145 non-null  object \n",
      " 5   additional_subrequest      11145 non-null  object \n",
      " 6   date_time_opened           11145 non-null  object \n",
      " 7   date_time_closed           11023 non-null  object \n",
      " 8   case_origin                11145 non-null  object \n",
      " 9   state_issue                11145 non-null  bool   \n",
      " 10  closed_when_created        11145 non-null  bool   \n",
      " 11  incident_address           11145 non-null  object \n",
      " 12  incident_city              11145 non-null  object \n",
      " 13  incident_council_district  11145 non-null  object \n",
      " 14  incident_zip_code          10964 non-null  float64\n",
      " 15  latitude                   11145 non-null  float64\n",
      " 16  longitude                  11145 non-null  float64\n",
      " 17  mapped_location            11145 non-null  object \n",
      " 18  contact_type               11145 non-null  object \n",
      " 19  parent_case                11145 non-null  object \n",
      " 20  preferred_language         11145 non-null  object \n",
      "dtypes: bool(2), float64(3), int64(2), object(14)\n",
      "memory usage: 1.7+ MB\n"
     ]
    }
   ],
   "source": [
    "nash_311.info()"
   ]
  },
  {
   "cell_type": "code",
   "execution_count": 21,
   "metadata": {},
   "outputs": [
    {
     "data": {
      "text/html": [
       "<div>\n",
       "<style scoped>\n",
       "    .dataframe tbody tr th:only-of-type {\n",
       "        vertical-align: middle;\n",
       "    }\n",
       "\n",
       "    .dataframe tbody tr th {\n",
       "        vertical-align: top;\n",
       "    }\n",
       "\n",
       "    .dataframe thead th {\n",
       "        text-align: right;\n",
       "    }\n",
       "</style>\n",
       "<table border=\"1\" class=\"dataframe\">\n",
       "  <thead>\n",
       "    <tr style=\"text-align: right;\">\n",
       "      <th></th>\n",
       "      <th>request_type</th>\n",
       "      <th>requests</th>\n",
       "    </tr>\n",
       "  </thead>\n",
       "  <tbody>\n",
       "    <tr>\n",
       "      <th>0</th>\n",
       "      <td>STREETS, ROADS &amp; SIDEWALKS</td>\n",
       "      <td>4122</td>\n",
       "    </tr>\n",
       "    <tr>\n",
       "      <th>1</th>\n",
       "      <td>PUBLIC SAFETY</td>\n",
       "      <td>3401</td>\n",
       "    </tr>\n",
       "    <tr>\n",
       "      <th>2</th>\n",
       "      <td>COVID-19</td>\n",
       "      <td>940</td>\n",
       "    </tr>\n",
       "    <tr>\n",
       "      <th>3</th>\n",
       "      <td>TRASH, RECYCLING &amp; LITTER</td>\n",
       "      <td>914</td>\n",
       "    </tr>\n",
       "    <tr>\n",
       "      <th>4</th>\n",
       "      <td>PROPERTY VIOLATIONS</td>\n",
       "      <td>776</td>\n",
       "    </tr>\n",
       "    <tr>\n",
       "      <th>5</th>\n",
       "      <td>TRANSIT</td>\n",
       "      <td>429</td>\n",
       "    </tr>\n",
       "    <tr>\n",
       "      <th>6</th>\n",
       "      <td>RESOLVED BY HUBNASHVILLE ON FIRST CALL</td>\n",
       "      <td>198</td>\n",
       "    </tr>\n",
       "    <tr>\n",
       "      <th>7</th>\n",
       "      <td>ELECTRIC &amp; WATER GENERAL</td>\n",
       "      <td>138</td>\n",
       "    </tr>\n",
       "  </tbody>\n",
       "</table>\n",
       "</div>"
      ],
      "text/plain": [
       "                             request_type  requests\n",
       "0              STREETS, ROADS & SIDEWALKS      4122\n",
       "1                           PUBLIC SAFETY      3401\n",
       "2                                COVID-19       940\n",
       "3               TRASH, RECYCLING & LITTER       914\n",
       "4                     PROPERTY VIOLATIONS       776\n",
       "5                                 TRANSIT       429\n",
       "6  RESOLVED BY HUBNASHVILLE ON FIRST CALL       198\n",
       "7                ELECTRIC & WATER GENERAL       138"
      ]
     },
     "execution_count": 21,
     "metadata": {},
     "output_type": "execute_result"
    }
   ],
   "source": [
    "request_volume = nash_311['case_request'].value_counts().rename_axis('request_type').reset_index(name = 'requests')\n",
    "request_volume[request_volume['requests']>= 100]"
   ]
  },
  {
   "cell_type": "code",
   "execution_count": 22,
   "metadata": {},
   "outputs": [
    {
     "data": {
      "image/png": "[encoded data removed]",
      "text/plain": [
       "<Figure size 640x480 with 1 Axes>"
      ]
     },
     "metadata": {},
     "output_type": "display_data"
    }
   ],
   "source": [
    "sns.barplot(x = 'requests', y = 'request_type', data = request_volume[request_volume['requests']>= 100], color = '#9DAEA3', dodge = False)\n",
    "plt.suptitle('311 Requests by Type', fontsize=16, weight='bold')\n",
    "plt.title('Categories With More Than 100 Requests', fontsize=8, alpha=0.75)\n",
    "plt.ylabel('')\n",
    "plt.xlabel('Requests')\n",
    "plt.savefig('../plots/request_types.png', bbox_inches='tight', transparent=True);"
   ]
  },
  {
   "cell_type": "markdown",
   "metadata": {},
   "source": [
    "Interestingly, there are almost 30,000 entries related to road and sidewalk conditions - over 4 times the number of crashes along the corridor... Let's dig into those."
   ]
  },
  {
   "cell_type": "code",
   "execution_count": 23,
   "metadata": {},
   "outputs": [
    {
     "data": {
      "text/html": [
       "<div>\n",
       "<style scoped>\n",
       "    .dataframe tbody tr th:only-of-type {\n",
       "        vertical-align: middle;\n",
       "    }\n",
       "\n",
       "    .dataframe tbody tr th {\n",
       "        vertical-align: top;\n",
       "    }\n",
       "\n",
       "    .dataframe thead th {\n",
       "        text-align: right;\n",
       "    }\n",
       "</style>\n",
       "<table border=\"1\" class=\"dataframe\">\n",
       "  <thead>\n",
       "    <tr style=\"text-align: right;\">\n",
       "      <th></th>\n",
       "      <th>subrequest</th>\n",
       "      <th>requests</th>\n",
       "    </tr>\n",
       "  </thead>\n",
       "  <tbody>\n",
       "    <tr>\n",
       "      <th>0</th>\n",
       "      <td>BLOCKING THE RIGHT OF WAY</td>\n",
       "      <td>1057</td>\n",
       "    </tr>\n",
       "    <tr>\n",
       "      <th>1</th>\n",
       "      <td>TRAFFIC LIGHT ISSUE</td>\n",
       "      <td>1012</td>\n",
       "    </tr>\n",
       "    <tr>\n",
       "      <th>2</th>\n",
       "      <td>POTHOLES</td>\n",
       "      <td>373</td>\n",
       "    </tr>\n",
       "    <tr>\n",
       "      <th>3</th>\n",
       "      <td>DAMAGED SIGN</td>\n",
       "      <td>250</td>\n",
       "    </tr>\n",
       "    <tr>\n",
       "      <th>4</th>\n",
       "      <td>TRAFFIC LIGHT TIMING</td>\n",
       "      <td>149</td>\n",
       "    </tr>\n",
       "    <tr>\n",
       "      <th>5</th>\n",
       "      <td>TRAFFIC ENGINEERING</td>\n",
       "      <td>140</td>\n",
       "    </tr>\n",
       "    <tr>\n",
       "      <th>6</th>\n",
       "      <td>DEAD ANIMAL PICKUP</td>\n",
       "      <td>129</td>\n",
       "    </tr>\n",
       "    <tr>\n",
       "      <th>7</th>\n",
       "      <td>SIDEWALKS</td>\n",
       "      <td>124</td>\n",
       "    </tr>\n",
       "    <tr>\n",
       "      <th>8</th>\n",
       "      <td>STREET LIGHTING</td>\n",
       "      <td>108</td>\n",
       "    </tr>\n",
       "    <tr>\n",
       "      <th>9</th>\n",
       "      <td>ROADWORK COMPLAINT</td>\n",
       "      <td>105</td>\n",
       "    </tr>\n",
       "    <tr>\n",
       "      <th>10</th>\n",
       "      <td>REMOVE DEBRIS IN ROADWAY</td>\n",
       "      <td>103</td>\n",
       "    </tr>\n",
       "    <tr>\n",
       "      <th>11</th>\n",
       "      <td>REQUEST NEW SIGN</td>\n",
       "      <td>76</td>\n",
       "    </tr>\n",
       "    <tr>\n",
       "      <th>12</th>\n",
       "      <td>OVERGROWTH ON RIGHT OF WAY</td>\n",
       "      <td>71</td>\n",
       "    </tr>\n",
       "    <tr>\n",
       "      <th>13</th>\n",
       "      <td>ILLEGAL DUMPING</td>\n",
       "      <td>66</td>\n",
       "    </tr>\n",
       "    <tr>\n",
       "      <th>14</th>\n",
       "      <td>OBSTRUCTION OF RIGHT OF WAY</td>\n",
       "      <td>54</td>\n",
       "    </tr>\n",
       "    <tr>\n",
       "      <th>15</th>\n",
       "      <td>PAVING REQUEST</td>\n",
       "      <td>47</td>\n",
       "    </tr>\n",
       "    <tr>\n",
       "      <th>16</th>\n",
       "      <td>GRAFFITI</td>\n",
       "      <td>45</td>\n",
       "    </tr>\n",
       "    <tr>\n",
       "      <th>17</th>\n",
       "      <td>REQUEST NEW SIGNAL</td>\n",
       "      <td>42</td>\n",
       "    </tr>\n",
       "    <tr>\n",
       "      <th>18</th>\n",
       "      <td>SNOW AND ICE REMOVAL</td>\n",
       "      <td>26</td>\n",
       "    </tr>\n",
       "    <tr>\n",
       "      <th>19</th>\n",
       "      <td>REMOVE OTHER</td>\n",
       "      <td>23</td>\n",
       "    </tr>\n",
       "    <tr>\n",
       "      <th>20</th>\n",
       "      <td>SHARED SCOOTER AND BIKE ISSUES</td>\n",
       "      <td>14</td>\n",
       "    </tr>\n",
       "    <tr>\n",
       "      <th>21</th>\n",
       "      <td>MOWING ON RIGHT OF WAY</td>\n",
       "      <td>14</td>\n",
       "    </tr>\n",
       "    <tr>\n",
       "      <th>22</th>\n",
       "      <td>ILLEGAL PARKING OR BLOCKING</td>\n",
       "      <td>12</td>\n",
       "    </tr>\n",
       "    <tr>\n",
       "      <th>23</th>\n",
       "      <td>DIP/BUMP IN ROADWAY</td>\n",
       "      <td>10</td>\n",
       "    </tr>\n",
       "    <tr>\n",
       "      <th>24</th>\n",
       "      <td>CONTRACTOR COMPLAINT</td>\n",
       "      <td>10</td>\n",
       "    </tr>\n",
       "    <tr>\n",
       "      <th>25</th>\n",
       "      <td>SIGN SIGNAL REPAIRS</td>\n",
       "      <td>8</td>\n",
       "    </tr>\n",
       "    <tr>\n",
       "      <th>26</th>\n",
       "      <td>REQUEST A SPEED MONITOR TRAILER</td>\n",
       "      <td>8</td>\n",
       "    </tr>\n",
       "    <tr>\n",
       "      <th>27</th>\n",
       "      <td>SHOULDERS</td>\n",
       "      <td>7</td>\n",
       "    </tr>\n",
       "    <tr>\n",
       "      <th>28</th>\n",
       "      <td>GUARD RAILS</td>\n",
       "      <td>6</td>\n",
       "    </tr>\n",
       "    <tr>\n",
       "      <th>29</th>\n",
       "      <td>REMOVE STORM DEBRIS</td>\n",
       "      <td>6</td>\n",
       "    </tr>\n",
       "    <tr>\n",
       "      <th>30</th>\n",
       "      <td>REPAIR BIKE LANE BOLLARDS</td>\n",
       "      <td>5</td>\n",
       "    </tr>\n",
       "    <tr>\n",
       "      <th>31</th>\n",
       "      <td>ROAD CLOSURES</td>\n",
       "      <td>4</td>\n",
       "    </tr>\n",
       "    <tr>\n",
       "      <th>32</th>\n",
       "      <td>OTHER-ROADWAYS</td>\n",
       "      <td>4</td>\n",
       "    </tr>\n",
       "    <tr>\n",
       "      <th>33</th>\n",
       "      <td>BRIDGE DAMAGE</td>\n",
       "      <td>3</td>\n",
       "    </tr>\n",
       "    <tr>\n",
       "      <th>34</th>\n",
       "      <td>CURBING AND BERMS</td>\n",
       "      <td>3</td>\n",
       "    </tr>\n",
       "    <tr>\n",
       "      <th>35</th>\n",
       "      <td>DRIVEWAY TRANSITION/DROP OFF</td>\n",
       "      <td>3</td>\n",
       "    </tr>\n",
       "    <tr>\n",
       "      <th>36</th>\n",
       "      <td>SIDEWALK VENDOR COMPLAINT</td>\n",
       "      <td>2</td>\n",
       "    </tr>\n",
       "    <tr>\n",
       "      <th>37</th>\n",
       "      <td>TRAFFIC CALMING</td>\n",
       "      <td>1</td>\n",
       "    </tr>\n",
       "    <tr>\n",
       "      <th>38</th>\n",
       "      <td>REQUEST REPAIR TO PRIVATE PROPERTY</td>\n",
       "      <td>1</td>\n",
       "    </tr>\n",
       "    <tr>\n",
       "      <th>39</th>\n",
       "      <td>SIGNAL</td>\n",
       "      <td>1</td>\n",
       "    </tr>\n",
       "  </tbody>\n",
       "</table>\n",
       "</div>"
      ],
      "text/plain": [
       "                            subrequest  requests\n",
       "0            BLOCKING THE RIGHT OF WAY      1057\n",
       "1                  TRAFFIC LIGHT ISSUE      1012\n",
       "2                             POTHOLES       373\n",
       "3                         DAMAGED SIGN       250\n",
       "4                 TRAFFIC LIGHT TIMING       149\n",
       "5                  TRAFFIC ENGINEERING       140\n",
       "6                   DEAD ANIMAL PICKUP       129\n",
       "7                            SIDEWALKS       124\n",
       "8                      STREET LIGHTING       108\n",
       "9                   ROADWORK COMPLAINT       105\n",
       "10            REMOVE DEBRIS IN ROADWAY       103\n",
       "11                    REQUEST NEW SIGN        76\n",
       "12          OVERGROWTH ON RIGHT OF WAY        71\n",
       "13                     ILLEGAL DUMPING        66\n",
       "14         OBSTRUCTION OF RIGHT OF WAY        54\n",
       "15                      PAVING REQUEST        47\n",
       "16                            GRAFFITI        45\n",
       "17                  REQUEST NEW SIGNAL        42\n",
       "18                SNOW AND ICE REMOVAL        26\n",
       "19                        REMOVE OTHER        23\n",
       "20      SHARED SCOOTER AND BIKE ISSUES        14\n",
       "21              MOWING ON RIGHT OF WAY        14\n",
       "22         ILLEGAL PARKING OR BLOCKING        12\n",
       "23                 DIP/BUMP IN ROADWAY        10\n",
       "24                CONTRACTOR COMPLAINT        10\n",
       "25                 SIGN SIGNAL REPAIRS         8\n",
       "26     REQUEST A SPEED MONITOR TRAILER         8\n",
       "27                           SHOULDERS         7\n",
       "28                         GUARD RAILS         6\n",
       "29                 REMOVE STORM DEBRIS         6\n",
       "30           REPAIR BIKE LANE BOLLARDS         5\n",
       "31                       ROAD CLOSURES         4\n",
       "32                      OTHER-ROADWAYS         4\n",
       "33                       BRIDGE DAMAGE         3\n",
       "34                   CURBING AND BERMS         3\n",
       "35        DRIVEWAY TRANSITION/DROP OFF         3\n",
       "36           SIDEWALK VENDOR COMPLAINT         2\n",
       "37                     TRAFFIC CALMING         1\n",
       "38  REQUEST REPAIR TO PRIVATE PROPERTY         1\n",
       "39                              SIGNAL         1"
      ]
     },
     "execution_count": 23,
     "metadata": {},
     "output_type": "execute_result"
    }
   ],
   "source": [
    "road_requests = nash_311[nash_311['case_request'] == 'STREETS, ROADS & SIDEWALKS']['case_subrequest'].value_counts().rename_axis('subrequest').reset_index(name = 'requests')\n",
    "road_requests"
   ]
  },
  {
   "cell_type": "code",
   "execution_count": 24,
   "metadata": {},
   "outputs": [
    {
     "data": {
      "image/png": "[encoded data removed]",
      "text/plain": [
       "<Figure size 640x480 with 1 Axes>"
      ]
     },
     "metadata": {},
     "output_type": "display_data"
    }
   ],
   "source": [
    "sns.barplot(x = 'requests', y = 'subrequest', data = road_requests[road_requests['requests']>= 100], color = '#9DAEA3', dodge = False)\n",
    "plt.suptitle('Roadway Requests by Subtype', fontsize=16, weight='bold')\n",
    "plt.title('Categories With More Than 100 Requests', fontsize=8, alpha=0.75)\n",
    "plt.ylabel('')\n",
    "plt.xlabel('Requests')\n",
    "plt.savefig('../plots/road_requests.png', bbox_inches='tight', transparent=True);"
   ]
  },
  {
   "cell_type": "markdown",
   "metadata": {},
   "source": [
    "While there aren't many, several subcategories related to infrastructure issues include requests for improvements. Plotting those on a map and comparing against crash locations will tell us where residents think the problem areas are."
   ]
  },
  {
   "cell_type": "code",
   "execution_count": 25,
   "metadata": {},
   "outputs": [
    {
     "data": {
      "text/html": [
       "<div>\n",
       "<style scoped>\n",
       "    .dataframe tbody tr th:only-of-type {\n",
       "        vertical-align: middle;\n",
       "    }\n",
       "\n",
       "    .dataframe tbody tr th {\n",
       "        vertical-align: top;\n",
       "    }\n",
       "\n",
       "    .dataframe thead th {\n",
       "        text-align: right;\n",
       "    }\n",
       "</style>\n",
       "<table border=\"1\" class=\"dataframe\">\n",
       "  <thead>\n",
       "    <tr style=\"text-align: right;\">\n",
       "      <th></th>\n",
       "      <th>Unnamed: 0</th>\n",
       "      <th>case_number</th>\n",
       "      <th>status</th>\n",
       "      <th>case_request</th>\n",
       "      <th>case_subrequest</th>\n",
       "      <th>additional_subrequest</th>\n",
       "      <th>date_time_opened</th>\n",
       "      <th>date_time_closed</th>\n",
       "      <th>case_origin</th>\n",
       "      <th>state_issue</th>\n",
       "      <th>...</th>\n",
       "      <th>incident_address</th>\n",
       "      <th>incident_city</th>\n",
       "      <th>incident_council_district</th>\n",
       "      <th>incident_zip_code</th>\n",
       "      <th>latitude</th>\n",
       "      <th>longitude</th>\n",
       "      <th>mapped_location</th>\n",
       "      <th>contact_type</th>\n",
       "      <th>parent_case</th>\n",
       "      <th>preferred_language</th>\n",
       "    </tr>\n",
       "  </thead>\n",
       "  <tbody>\n",
       "  </tbody>\n",
       "</table>\n",
       "<p>0 rows × 21 columns</p>\n",
       "</div>"
      ],
      "text/plain": [
       "Empty DataFrame\n",
       "Columns: [Unnamed: 0, case_number, status, case_request, case_subrequest, additional_subrequest, date_time_opened, date_time_closed, case_origin, state_issue, closed_when_created, incident_address, incident_city, incident_council_district, incident_zip_code, latitude, longitude, mapped_location, contact_type, parent_case, preferred_language]\n",
       "Index: []\n",
       "\n",
       "[0 rows x 21 columns]"
      ]
     },
     "execution_count": 25,
     "metadata": {},
     "output_type": "execute_result"
    }
   ],
   "source": [
    "impr_requests = nash_311[nash_311['case_subrequest'].isin(['Request New Sign', 'Traffic Engineering', 'Paving Request', 'Request a Speed Monitor Trailer', 'Traffic Light Timing', 'Request New Signal', 'Traffic Calming', 'Request for a New/Improved Bikeway', 'Request Warning Sign'])]\n",
    "impr_requests.to_csv(('../data/clean/impr_requests.csv'))\n",
    "impr_requests.head()"
   ]
  },
  {
   "cell_type": "markdown",
   "metadata": {},
   "source": [
    "Another consideration is traffic signal equipment and whether or not proper pedestrian facilities exist."
   ]
  },
  {
   "cell_type": "code",
   "execution_count": 26,
   "metadata": {},
   "outputs": [
    {
     "name": "stdout",
     "output_type": "stream",
     "text": [
      "<class 'pandas.core.frame.DataFrame'>\n",
      "RangeIndex: 239 entries, 0 to 238\n",
      "Data columns (total 29 columns):\n",
      " #   Column           Non-Null Count  Dtype  \n",
      "---  ------           --------------  -----  \n",
      " 0   Unnamed: 0       239 non-null    int64  \n",
      " 1   intersectionid   239 non-null    int64  \n",
      " 2   onst             239 non-null    object \n",
      " 3   crst             239 non-null    object \n",
      " 4   quad             239 non-null    object \n",
      " 5   inspector        239 non-null    object \n",
      " 6   date             239 non-null    object \n",
      " 7   evnt_lat         238 non-null    float64\n",
      " 8   evnt_lon         238 non-null    float64\n",
      " 9   evnt_map         239 non-null    object \n",
      " 10  evnt_type        148 non-null    object \n",
      " 11  ped_signal_pres  239 non-null    bool   \n",
      " 12  oa_cmnt          239 non-null    object \n",
      " 13  mapped_location  238 non-null    object \n",
      " 14  cpl_size         148 non-null    object \n",
      " 15  cpl_force        148 non-null    object \n",
      " 16  cpl_op           148 non-null    object \n",
      " 17  cpl_ctrst        148 non-null    object \n",
      " 18  cpl_vis          148 non-null    object \n",
      " 19  cpl_aud          148 non-null    object \n",
      " 20  cmnt_1           72 non-null     object \n",
      " 21  cpl_ldg          148 non-null    object \n",
      " 22  cpl_prox         148 non-null    object \n",
      " 23  cpl_place        148 non-null    object \n",
      " 24  cpl_sep          148 non-null    object \n",
      " 25  cpl_hgt          148 non-null    float64\n",
      " 26  cpl_cw_1         148 non-null    float64\n",
      " 27  cpl_cw_2         147 non-null    float64\n",
      " 28  cmnt_2           64 non-null     object \n",
      "dtypes: bool(1), float64(5), int64(2), object(21)\n",
      "memory usage: 52.6+ KB\n"
     ]
    }
   ],
   "source": [
    "ped_inv = pd.read_csv('../data/clean/ped_inv.csv')\n",
    "ped_inv.info()"
   ]
  },
  {
   "cell_type": "code",
   "execution_count": 27,
   "metadata": {},
   "outputs": [
    {
     "data": {
      "text/plain": [
       "33"
      ]
     },
     "execution_count": 27,
     "metadata": {},
     "output_type": "execute_result"
    }
   ],
   "source": [
    "non_complaince = ped_inv[ped_inv.isin([False]).any(axis=1)].groupby('intersectionid').count()\n",
    "len(non_complaince)"
   ]
  },
  {
   "cell_type": "code",
   "execution_count": 28,
   "metadata": {},
   "outputs": [
    {
     "data": {
      "text/plain": [
       "24"
      ]
     },
     "execution_count": 28,
     "metadata": {},
     "output_type": "execute_result"
    }
   ],
   "source": [
    "no_ped = ped_inv[ped_inv['ped_signal_pres'] == False].groupby('intersectionid').count()\n",
    "len(no_ped)"
   ]
  },
  {
   "cell_type": "code",
   "execution_count": 29,
   "metadata": {},
   "outputs": [
    {
     "data": {
      "text/plain": [
       "35"
      ]
     },
     "execution_count": 29,
     "metadata": {},
     "output_type": "execute_result"
    }
   ],
   "source": [
    "len(ped_inv.groupby('intersectionid').count())"
   ]
  },
  {
   "cell_type": "markdown",
   "metadata": {},
   "source": [
    "Now let's get this information into Microsoft PowerBI to look at it graphically."
   ]
  },
  {
   "cell_type": "markdown",
   "metadata": {},
   "source": [
    "PowerBI created some useful graphs, but I still can't explain that drop in crashes. Let's try it here."
   ]
  },
  {
   "cell_type": "code",
   "execution_count": 35,
   "metadata": {},
   "outputs": [
    {
     "name": "stdout",
     "output_type": "stream",
     "text": [
      "<class 'pandas.core.frame.DataFrame'>\n",
      "RangeIndex: 715 entries, 0 to 714\n",
      "Data columns (total 24 columns):\n",
      " #   Column                      Non-Null Count  Dtype  \n",
      "---  ------                      --------------  -----  \n",
      " 0   Unnamed: 0.2                715 non-null    int64  \n",
      " 1   Unnamed: 0.1                715 non-null    int64  \n",
      " 2   Unnamed: 0                  715 non-null    int64  \n",
      " 3   accident_number             715 non-null    int64  \n",
      " 4   date_and_time               715 non-null    object \n",
      " 5   number_of_motor_vehicles    715 non-null    float64\n",
      " 6   number_of_injuries          715 non-null    float64\n",
      " 7   number_of_fatalities        715 non-null    float64\n",
      " 8   hit_and_run                 715 non-null    bool   \n",
      " 9   reporting_officer           715 non-null    float64\n",
      " 10  collision_type_description  715 non-null    object \n",
      " 11  weather_description         715 non-null    object \n",
      " 12  illumination_description    715 non-null    object \n",
      " 13  harmfuldescriptions         715 non-null    object \n",
      " 14  street_address              715 non-null    object \n",
      " 15  city                        715 non-null    object \n",
      " 16  state                       715 non-null    object \n",
      " 17  zip                         715 non-null    float64\n",
      " 18  rpa                         715 non-null    float64\n",
      " 19  precinct                    715 non-null    object \n",
      " 20  lat                         715 non-null    float64\n",
      " 21  long                        715 non-null    float64\n",
      " 22  property_damage             715 non-null    bool   \n",
      " 23  date                        715 non-null    object \n",
      "dtypes: bool(2), float64(8), int64(4), object(10)\n",
      "memory usage: 124.4+ KB\n"
     ]
    }
   ],
   "source": [
    "crashes_drop = pd.read_csv('../data/clean/crashes_filtered.csv')\n",
    "crashes_drop.info()"
   ]
  },
  {
   "cell_type": "code",
   "execution_count": 37,
   "metadata": {},
   "outputs": [
    {
     "data": {
      "text/plain": [
       "date\n",
       "2023-02-23    8\n",
       "2023-03-06    7\n",
       "2023-04-14    7\n",
       "2023-03-03    7\n",
       "2022-12-14    7\n",
       "             ..\n",
       "2022-11-29    1\n",
       "2023-03-20    1\n",
       "2023-03-18    1\n",
       "2022-12-04    1\n",
       "2022-11-27    1\n",
       "Name: count, Length: 305, dtype: int64"
      ]
     },
     "execution_count": 37,
     "metadata": {},
     "output_type": "execute_result"
    }
   ],
   "source": [
    "crashes_drop['date'].value_counts()"
   ]
  }
 ],
 "metadata": {
  "kernelspec": {
   "display_name": "geospatial",
   "language": "python",
   "name": "python3"
  },
  "language_info": {
   "codemirror_mode": {
    "name": "ipython",
    "version": 3
   },
   "file_extension": ".py",
   "mimetype": "text/x-python",
   "name": "python",
   "nbconvert_exporter": "python",
   "pygments_lexer": "ipython3",
   "version": "3.11.7"
  }
 },
 "nbformat": 4,
 "nbformat_minor": 2
}
