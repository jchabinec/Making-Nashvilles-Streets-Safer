{
 "cells": [
  {
   "cell_type": "code",
   "execution_count": 1,
   "metadata": {},
   "outputs": [],
   "source": [
    "import pandas as pd\n",
    "import datetime as dt"
   ]
  },
  {
   "cell_type": "code",
   "execution_count": 2,
   "metadata": {},
   "outputs": [
    {
     "data": {
      "text/html": [
       "<div>\n",
       "<style scoped>\n",
       "    .dataframe tbody tr th:only-of-type {\n",
       "        vertical-align: middle;\n",
       "    }\n",
       "\n",
       "    .dataframe tbody tr th {\n",
       "        vertical-align: top;\n",
       "    }\n",
       "\n",
       "    .dataframe thead th {\n",
       "        text-align: right;\n",
       "    }\n",
       "</style>\n",
       "<table border=\"1\" class=\"dataframe\">\n",
       "  <thead>\n",
       "    <tr style=\"text-align: right;\">\n",
       "      <th></th>\n",
       "      <th>Unnamed: 0</th>\n",
       "      <th>accident_number</th>\n",
       "      <th>number_of_motor_vehicles</th>\n",
       "      <th>number_of_injuries</th>\n",
       "      <th>number_of_fatalities</th>\n",
       "      <th>zip</th>\n",
       "      <th>rpa</th>\n",
       "      <th>lat</th>\n",
       "      <th>long</th>\n",
       "    </tr>\n",
       "  </thead>\n",
       "  <tbody>\n",
       "    <tr>\n",
       "      <th>count</th>\n",
       "      <td>7255.000000</td>\n",
       "      <td>7.255000e+03</td>\n",
       "      <td>7255.000000</td>\n",
       "      <td>7255.000000</td>\n",
       "      <td>7255.0</td>\n",
       "      <td>7251.000000</td>\n",
       "      <td>7251.000000</td>\n",
       "      <td>7250.000000</td>\n",
       "      <td>7250.000000</td>\n",
       "    </tr>\n",
       "    <tr>\n",
       "      <th>mean</th>\n",
       "      <td>90779.892350</td>\n",
       "      <td>2.019523e+10</td>\n",
       "      <td>1.825086</td>\n",
       "      <td>0.441902</td>\n",
       "      <td>0.0</td>\n",
       "      <td>37154.375672</td>\n",
       "      <td>1606.365329</td>\n",
       "      <td>36.238894</td>\n",
       "      <td>-86.724281</td>\n",
       "    </tr>\n",
       "    <tr>\n",
       "      <th>std</th>\n",
       "      <td>52031.087142</td>\n",
       "      <td>1.983181e+07</td>\n",
       "      <td>0.737644</td>\n",
       "      <td>0.805726</td>\n",
       "      <td>0.0</td>\n",
       "      <td>48.206150</td>\n",
       "      <td>577.562022</td>\n",
       "      <td>0.042792</td>\n",
       "      <td>0.022824</td>\n",
       "    </tr>\n",
       "    <tr>\n",
       "      <th>min</th>\n",
       "      <td>41.000000</td>\n",
       "      <td>2.017000e+10</td>\n",
       "      <td>0.000000</td>\n",
       "      <td>0.000000</td>\n",
       "      <td>0.0</td>\n",
       "      <td>37013.000000</td>\n",
       "      <td>1101.000000</td>\n",
       "      <td>36.073300</td>\n",
       "      <td>-86.817700</td>\n",
       "    </tr>\n",
       "    <tr>\n",
       "      <th>25%</th>\n",
       "      <td>45370.500000</td>\n",
       "      <td>2.018035e+10</td>\n",
       "      <td>2.000000</td>\n",
       "      <td>0.000000</td>\n",
       "      <td>0.0</td>\n",
       "      <td>37115.000000</td>\n",
       "      <td>1425.000000</td>\n",
       "      <td>36.197000</td>\n",
       "      <td>-86.741600</td>\n",
       "    </tr>\n",
       "    <tr>\n",
       "      <th>50%</th>\n",
       "      <td>91194.000000</td>\n",
       "      <td>2.019059e+10</td>\n",
       "      <td>2.000000</td>\n",
       "      <td>0.000000</td>\n",
       "      <td>0.0</td>\n",
       "      <td>37115.000000</td>\n",
       "      <td>1607.000000</td>\n",
       "      <td>36.248700</td>\n",
       "      <td>-86.719900</td>\n",
       "    </tr>\n",
       "    <tr>\n",
       "      <th>75%</th>\n",
       "      <td>136184.000000</td>\n",
       "      <td>2.021042e+10</td>\n",
       "      <td>2.000000</td>\n",
       "      <td>1.000000</td>\n",
       "      <td>0.0</td>\n",
       "      <td>37206.000000</td>\n",
       "      <td>1731.000000</td>\n",
       "      <td>36.264400</td>\n",
       "      <td>-86.711500</td>\n",
       "    </tr>\n",
       "    <tr>\n",
       "      <th>max</th>\n",
       "      <td>180508.000000</td>\n",
       "      <td>2.024013e+10</td>\n",
       "      <td>7.000000</td>\n",
       "      <td>8.000000</td>\n",
       "      <td>0.0</td>\n",
       "      <td>37228.000000</td>\n",
       "      <td>15921.000000</td>\n",
       "      <td>36.319600</td>\n",
       "      <td>-86.443800</td>\n",
       "    </tr>\n",
       "  </tbody>\n",
       "</table>\n",
       "</div>"
      ],
      "text/plain": [
       "          Unnamed: 0  accident_number  number_of_motor_vehicles  \\\n",
       "count    7255.000000     7.255000e+03               7255.000000   \n",
       "mean    90779.892350     2.019523e+10                  1.825086   \n",
       "std     52031.087142     1.983181e+07                  0.737644   \n",
       "min        41.000000     2.017000e+10                  0.000000   \n",
       "25%     45370.500000     2.018035e+10                  2.000000   \n",
       "50%     91194.000000     2.019059e+10                  2.000000   \n",
       "75%    136184.000000     2.021042e+10                  2.000000   \n",
       "max    180508.000000     2.024013e+10                  7.000000   \n",
       "\n",
       "       number_of_injuries  number_of_fatalities           zip           rpa  \\\n",
       "count         7255.000000                7255.0   7251.000000   7251.000000   \n",
       "mean             0.441902                   0.0  37154.375672   1606.365329   \n",
       "std              0.805726                   0.0     48.206150    577.562022   \n",
       "min              0.000000                   0.0  37013.000000   1101.000000   \n",
       "25%              0.000000                   0.0  37115.000000   1425.000000   \n",
       "50%              0.000000                   0.0  37115.000000   1607.000000   \n",
       "75%              1.000000                   0.0  37206.000000   1731.000000   \n",
       "max              8.000000                   0.0  37228.000000  15921.000000   \n",
       "\n",
       "               lat         long  \n",
       "count  7250.000000  7250.000000  \n",
       "mean     36.238894   -86.724281  \n",
       "std       0.042792     0.022824  \n",
       "min      36.073300   -86.817700  \n",
       "25%      36.197000   -86.741600  \n",
       "50%      36.248700   -86.719900  \n",
       "75%      36.264400   -86.711500  \n",
       "max      36.319600   -86.443800  "
      ]
     },
     "execution_count": 2,
     "metadata": {},
     "output_type": "execute_result"
    }
   ],
   "source": [
    "crashes = pd.read_csv('../data/clean/crashes.csv')\n",
    "crashes.describe()"
   ]
  },
  {
   "cell_type": "code",
   "execution_count": 3,
   "metadata": {},
   "outputs": [
    {
     "data": {
      "text/plain": [
       "Unnamed: 0                    0\n",
       "accident_number               0\n",
       "date_and_time                 0\n",
       "number_of_motor_vehicles      0\n",
       "number_of_injuries            0\n",
       "number_of_fatalities          0\n",
       "hit_and_run                   0\n",
       "collision_type_description    0\n",
       "weather_description           0\n",
       "illumination_description      0\n",
       "harmfuldescriptions           0\n",
       "street_address                0\n",
       "city                          0\n",
       "state                         0\n",
       "zip                           4\n",
       "rpa                           4\n",
       "precinct                      0\n",
       "lat                           5\n",
       "long                          5\n",
       "mapped_location               5\n",
       "property_damage               0\n",
       "date                          0\n",
       "dtype: int64"
      ]
     },
     "execution_count": 3,
     "metadata": {},
     "output_type": "execute_result"
    }
   ],
   "source": [
    "crashes.isna().sum(axis = 0)"
   ]
  },
  {
   "cell_type": "markdown",
   "metadata": {},
   "source": [
    "Location data is important for the first step of identifying \"hot spots\", so any nulls in these columns will need to be addressed. The records with nulls for location fields (`lat`, `long`, & `mapped_location`) do seem to be from actual events and not errors, but given that at the time of this analysis they represent 0.04% of the data, I don't believe removeing them will negatively impact the overall analysis."
   ]
  },
  {
   "cell_type": "code",
   "execution_count": 4,
   "metadata": {},
   "outputs": [],
   "source": [
    "crashes = crashes.dropna()"
   ]
  },
  {
   "cell_type": "code",
   "execution_count": 5,
   "metadata": {},
   "outputs": [
    {
     "data": {
      "text/plain": [
       "Unnamed: 0                    0\n",
       "accident_number               0\n",
       "date_and_time                 0\n",
       "number_of_motor_vehicles      0\n",
       "number_of_injuries            0\n",
       "number_of_fatalities          0\n",
       "hit_and_run                   0\n",
       "collision_type_description    0\n",
       "weather_description           0\n",
       "illumination_description      0\n",
       "harmfuldescriptions           0\n",
       "street_address                0\n",
       "city                          0\n",
       "state                         0\n",
       "zip                           0\n",
       "rpa                           0\n",
       "precinct                      0\n",
       "lat                           0\n",
       "long                          0\n",
       "mapped_location               0\n",
       "property_damage               0\n",
       "date                          0\n",
       "dtype: int64"
      ]
     },
     "execution_count": 5,
     "metadata": {},
     "output_type": "execute_result"
    }
   ],
   "source": [
    "crashes.isna().sum(axis = 0)"
   ]
  },
  {
   "cell_type": "code",
   "execution_count": 6,
   "metadata": {},
   "outputs": [],
   "source": [
    "crashes.to_csv('../data/clean/crashes.csv')"
   ]
  },
  {
   "cell_type": "markdown",
   "metadata": {},
   "source": [
    "No fatalities are reported in the entire dataset, which is surprising. However, these reports are only as accurate as the officers recording them, and they may be busy attending to those involved and quickly filling these out as soon as they arrive or or after they've left. That said, I will ignore the column for this analysis but leave it in the dataset, so it can be used in the future if numbers start showing up."
   ]
  },
  {
   "cell_type": "markdown",
   "metadata": {},
   "source": [
    "Now let's look at some other data sets that may have an impact on road safety."
   ]
  },
  {
   "cell_type": "markdown",
   "metadata": {},
   "source": [
    "First, 311 Complaints:"
   ]
  },
  {
   "cell_type": "code",
   "execution_count": 7,
   "metadata": {},
   "outputs": [
    {
     "name": "stdout",
     "output_type": "stream",
     "text": [
      "<class 'pandas.core.frame.DataFrame'>\n",
      "RangeIndex: 11118 entries, 0 to 11117\n",
      "Data columns (total 21 columns):\n",
      " #   Column                     Non-Null Count  Dtype  \n",
      "---  ------                     --------------  -----  \n",
      " 0   Unnamed: 0                 11118 non-null  int64  \n",
      " 1   case_number                11118 non-null  int64  \n",
      " 2   status                     11118 non-null  object \n",
      " 3   case_request               11118 non-null  object \n",
      " 4   case_subrequest            11118 non-null  object \n",
      " 5   additional_subrequest      11118 non-null  object \n",
      " 6   date_time_opened           11118 non-null  object \n",
      " 7   date_time_closed           10994 non-null  object \n",
      " 8   case_origin                11118 non-null  object \n",
      " 9   state_issue                11118 non-null  bool   \n",
      " 10  closed_when_created        11118 non-null  bool   \n",
      " 11  incident_address           11118 non-null  object \n",
      " 12  incident_city              11118 non-null  object \n",
      " 13  incident_council_district  11118 non-null  object \n",
      " 14  incident_zip_code          10914 non-null  float64\n",
      " 15  latitude                   11087 non-null  float64\n",
      " 16  longitude                  11087 non-null  float64\n",
      " 17  mapped_location            11087 non-null  object \n",
      " 18  contact_type               11118 non-null  object \n",
      " 19  parent_case                11118 non-null  object \n",
      " 20  preferred_language         11118 non-null  object \n",
      "dtypes: bool(2), float64(3), int64(2), object(14)\n",
      "memory usage: 1.6+ MB\n"
     ]
    }
   ],
   "source": [
    "nash_311 = pd.read_csv('../data/clean/nash_311.csv')\n",
    "nash_311.info()"
   ]
  },
  {
   "cell_type": "code",
   "execution_count": 8,
   "metadata": {},
   "outputs": [
    {
     "data": {
      "text/plain": [
       "Unnamed: 0                     0\n",
       "case_number                    0\n",
       "status                         0\n",
       "case_request                   0\n",
       "case_subrequest                0\n",
       "additional_subrequest          0\n",
       "date_time_opened               0\n",
       "date_time_closed             124\n",
       "case_origin                    0\n",
       "state_issue                    0\n",
       "closed_when_created            0\n",
       "incident_address               0\n",
       "incident_city                  0\n",
       "incident_council_district      0\n",
       "incident_zip_code            204\n",
       "latitude                      31\n",
       "longitude                     31\n",
       "mapped_location               31\n",
       "contact_type                   0\n",
       "parent_case                    0\n",
       "preferred_language             0\n",
       "dtype: int64"
      ]
     },
     "execution_count": 8,
     "metadata": {},
     "output_type": "execute_result"
    }
   ],
   "source": [
    "nash_311.isna().sum(axis = 0)"
   ]
  },
  {
   "cell_type": "code",
   "execution_count": 9,
   "metadata": {},
   "outputs": [],
   "source": [
    "nash_311 = nash_311.dropna(subset=['latitude', 'longitude'])"
   ]
  },
  {
   "cell_type": "code",
   "execution_count": 10,
   "metadata": {},
   "outputs": [],
   "source": [
    "nash_311.to_csv('../data/clean/nash_311.csv')"
   ]
  },
  {
   "cell_type": "markdown",
   "metadata": {},
   "source": [
    "Short-term rental properties in the area (for the purpose of this study, defined as all properties in zip codes 37206, 37216, & 37115) may inflence driver behavior, as guests staying here are either driving themselves and may not be familiar with their surroundings or are using ride-share services whose drivers also may not be familiar with the area."
   ]
  },
  {
   "cell_type": "code",
   "execution_count": 11,
   "metadata": {},
   "outputs": [
    {
     "name": "stdout",
     "output_type": "stream",
     "text": [
      "<class 'pandas.core.frame.DataFrame'>\n",
      "RangeIndex: 2872 entries, 0 to 2871\n",
      "Data columns (total 28 columns):\n",
      " #   Column                      Non-Null Count  Dtype \n",
      "---  ------                      --------------  ----- \n",
      " 0   Unnamed: 0                  2872 non-null   int64 \n",
      " 1   permit                      2872 non-null   object\n",
      " 2   applicant                   2872 non-null   object\n",
      " 3   contact                     2871 non-null   object\n",
      " 4   permit_subtype_description  2872 non-null   object\n",
      " 5   permit_status               2872 non-null   object\n",
      " 6   parcel                      2872 non-null   object\n",
      " 7   date_entered                2872 non-null   object\n",
      " 8   date_issued                 2565 non-null   object\n",
      " 9   expiration_date             2872 non-null   object\n",
      " 10  address                     2872 non-null   object\n",
      " 11  city                        2872 non-null   object\n",
      " 12  state                       2872 non-null   object\n",
      " 13  zip                         2872 non-null   int64 \n",
      " 14  subdivision_lot             2872 non-null   object\n",
      " 15  purpose                     2872 non-null   object\n",
      " 16  permit_owner_name           2872 non-null   object\n",
      " 17  permit_owner_addr2          2872 non-null   object\n",
      " 18  permit_owner_city           2872 non-null   object\n",
      " 19  permit_owner_state          2872 non-null   object\n",
      " 20  permit_owner_zip            2864 non-null   object\n",
      " 21  permit_type                 2872 non-null   object\n",
      " 22  permit_subtype              2872 non-null   object\n",
      " 23  council_dist                2872 non-null   object\n",
      " 24  census_tract                2872 non-null   int64 \n",
      " 25  mapped_location             2872 non-null   object\n",
      " 26  permit_owner_addr1          2872 non-null   object\n",
      " 27  permit_owner_addr3          2872 non-null   object\n",
      "dtypes: int64(3), object(25)\n",
      "memory usage: 628.4+ KB\n"
     ]
    }
   ],
   "source": [
    "st_rentals = pd.read_csv('../data/clean/rentals.csv')\n",
    "st_rentals.info()"
   ]
  },
  {
   "cell_type": "markdown",
   "metadata": {},
   "source": [
    "Building permits and active right-of-way permits (construction occuring in the roadway) could cause congestion and unexpected slowdowns, which could lead to crashes."
   ]
  },
  {
   "cell_type": "code",
   "execution_count": 12,
   "metadata": {},
   "outputs": [],
   "source": [
    "bdlg_permits = pd.read_csv('../data/clean/bldg_permits.csv')"
   ]
  },
  {
   "cell_type": "code",
   "execution_count": 13,
   "metadata": {},
   "outputs": [],
   "source": [
    "row_permits = pd.read_csv('../data/clean/row_permits.csv')"
   ]
  },
  {
   "cell_type": "markdown",
   "metadata": {},
   "source": [
    "Nashville also maintains an inventory of pedestrian signals throughout the city, including information about their compliance with ADA regulations."
   ]
  },
  {
   "cell_type": "code",
   "execution_count": 14,
   "metadata": {},
   "outputs": [],
   "source": [
    "ped_inv = pd.read_csv('../data/clean/ped_inv.csv')"
   ]
  },
  {
   "cell_type": "markdown",
   "metadata": {},
   "source": [
    "Now is a good time to pause and look at the all of this on a map.<br><br>\n",
    "(This is better done in a separate notebook, so this will serve as a stopping point for this one. The current table will be exported to a .csv file and used in the mapping notebook. Refer to `mapping.ipynb` for the overall map(s) and next steps will follow below)"
   ]
  },
  {
   "cell_type": "markdown",
   "metadata": {},
   "source": [
    "Now we'll look at the different categorical information in our datasets."
   ]
  },
  {
   "cell_type": "code",
   "execution_count": 15,
   "metadata": {},
   "outputs": [
    {
     "name": "stdout",
     "output_type": "stream",
     "text": [
      "<class 'pandas.core.frame.DataFrame'>\n",
      "Index: 7249 entries, 0 to 7254\n",
      "Data columns (total 22 columns):\n",
      " #   Column                      Non-Null Count  Dtype  \n",
      "---  ------                      --------------  -----  \n",
      " 0   Unnamed: 0                  7249 non-null   int64  \n",
      " 1   accident_number             7249 non-null   int64  \n",
      " 2   date_and_time               7249 non-null   object \n",
      " 3   number_of_motor_vehicles    7249 non-null   float64\n",
      " 4   number_of_injuries          7249 non-null   float64\n",
      " 5   number_of_fatalities        7249 non-null   float64\n",
      " 6   hit_and_run                 7249 non-null   bool   \n",
      " 7   collision_type_description  7249 non-null   object \n",
      " 8   weather_description         7249 non-null   object \n",
      " 9   illumination_description    7249 non-null   object \n",
      " 10  harmfuldescriptions         7249 non-null   object \n",
      " 11  street_address              7249 non-null   object \n",
      " 12  city                        7249 non-null   object \n",
      " 13  state                       7249 non-null   object \n",
      " 14  zip                         7249 non-null   float64\n",
      " 15  rpa                         7249 non-null   float64\n",
      " 16  precinct                    7249 non-null   object \n",
      " 17  lat                         7249 non-null   float64\n",
      " 18  long                        7249 non-null   float64\n",
      " 19  mapped_location             7249 non-null   object \n",
      " 20  property_damage             7249 non-null   bool   \n",
      " 21  date                        7249 non-null   object \n",
      "dtypes: bool(2), float64(7), int64(2), object(11)\n",
      "memory usage: 1.2+ MB\n"
     ]
    }
   ],
   "source": [
    "crashes.info()"
   ]
  },
  {
   "cell_type": "code",
   "execution_count": 16,
   "metadata": {},
   "outputs": [
    {
     "data": {
      "text/plain": [
       "collision_type_description\n",
       "ANGLE                                      2568\n",
       "FRONT TO REAR                              2399\n",
       "SIDESWIPE - SAME DIRECTION                 1029\n",
       "NOT COLLISION W/MOTOR VEHICLE-TRANSPORT     658\n",
       "HEAD-ON                                     211\n",
       "SIDESWIPE - OPPOSITE DIRECTION              163\n",
       "OTHER                                        90\n",
       "REAR TO SIDE                                 57\n",
       "UNKNOWN                                      40\n",
       "REAR-TO-REAR                                 34\n",
       "Name: count, dtype: int64"
      ]
     },
     "execution_count": 16,
     "metadata": {},
     "output_type": "execute_result"
    }
   ],
   "source": [
    "crashes['collision_type_description'].value_counts()"
   ]
  },
  {
   "cell_type": "code",
   "execution_count": 17,
   "metadata": {},
   "outputs": [
    {
     "data": {
      "text/plain": [
       "weather_description\n",
       "CLEAR                     4959\n",
       "CLOUDY                    1302\n",
       "RAIN                       683\n",
       "NAN                        238\n",
       "SNOW                        28\n",
       "UNKNOWN                     17\n",
       "FOG                         12\n",
       "OTHER (NARRATIVE)            4\n",
       "SLEET, HAIL                  2\n",
       "SEVERE CROSSWIND             1\n",
       "BLOWING SAND/SOIL/DIRT       1\n",
       "BLOWING SNOW                 1\n",
       "SMOG, SMOKE                  1\n",
       "Name: count, dtype: int64"
      ]
     },
     "execution_count": 17,
     "metadata": {},
     "output_type": "execute_result"
    }
   ],
   "source": [
    "crashes['weather_description'].value_counts()"
   ]
  },
  {
   "cell_type": "markdown",
   "metadata": {},
   "source": [
    "As the overwhelming majority of crashes happen with clear or cloudy conditions, weather can be eliminated as a potential factor."
   ]
  },
  {
   "cell_type": "code",
   "execution_count": 18,
   "metadata": {},
   "outputs": [
    {
     "data": {
      "text/plain": [
       "illumination_description\n",
       "DAYLIGHT                 4970\n",
       "DARK - LIGHTED           1865\n",
       "DUSK                      167\n",
       "DARK - NOT LIGHTED        161\n",
       "DAWN                       34\n",
       "DARK-UNKNOWN LIGHTING      18\n",
       "UNKNOWN                    14\n",
       "NAN                        11\n",
       "OTHER                       9\n",
       "Name: count, dtype: int64"
      ]
     },
     "execution_count": 18,
     "metadata": {},
     "output_type": "execute_result"
    }
   ],
   "source": [
    "crashes['illumination_description'].value_counts()"
   ]
  },
  {
   "cell_type": "markdown",
   "metadata": {},
   "source": [
    "Same story for illumination, although it may be worth investigating the `DARK - NOT LIGHTED` instances to see if there is an issue with aparticular area."
   ]
  },
  {
   "cell_type": "code",
   "execution_count": 19,
   "metadata": {},
   "outputs": [
    {
     "data": {
      "text/plain": [
       "harmfuldescriptions\n",
       "MOTOR VEHICLE IN TRANSPORT                                                                      6060\n",
       "PARKED MOTOR VEHICLE                                                                             195\n",
       "PEDESTRIAN                                                                                       183\n",
       "UTILITY POLE                                                                                      98\n",
       "MOTOR VEHICLE IN TRANSPORT;PARKED MOTOR VEHICLE                                                   96\n",
       "                                                                                                ... \n",
       "MOTOR VEHICLE IN TRANSPORT;PARKED MOTOR VEHICLE;OTHER FIXED OBJECTS                                1\n",
       "MOTOR VEHICLE IN TRANSPORT;PARKED MOTOR VEHICLE;DITCH;OTHER FIXED OBJECTS;RAN OFF ROAD-RIGHT       1\n",
       "PARKED MOTOR VEHICLE;LUMINAIRE/LIGHT SUPPORT                                                       1\n",
       "OTHER OBJECT (NOT FIXED);FENCE                                                                     1\n",
       "MOTOR VEHICLE IN TRANSPORT;BUILDING;DITCH;FENCE                                                    1\n",
       "Name: count, Length: 170, dtype: int64"
      ]
     },
     "execution_count": 19,
     "metadata": {},
     "output_type": "execute_result"
    }
   ],
   "source": [
    "crashes['harmfuldescriptions'].value_counts()"
   ]
  },
  {
   "cell_type": "markdown",
   "metadata": {},
   "source": [
    "Could not find info specific to Tennessee but according to the state of Massachusetts, a \"Collision with a motot vehicle in transport\" means:<br><br>\n",
    "\"An event where a motor vehicle collides with another motor vehicle which is actively in motion on a roadway. This includes: motor vehicle in traffic on a highway, driverless motor vehicle in motion, motionless motor vehicle abandoned on a roadway, disabled motor vehicle on a roadway, etc.\"<br>(Source: https://masscrashreportmanual.com/vehicle/sequence-of-events-most-harmful-event/)<br><br>\n",
    "So this count is simply telling us that the overwhelming majority of crashes involved a vehicle travelling down th eroad, as opposed to one that was not moving.<br><br>\n",
    "It's worth looking at the collisions with pedestrians and parked vehicles. More on that later."
   ]
  },
  {
   "cell_type": "markdown",
   "metadata": {},
   "source": [
    "Now let's look at the different types of 311 complaints that have been made in the area."
   ]
  },
  {
   "cell_type": "code",
   "execution_count": 20,
   "metadata": {},
   "outputs": [
    {
     "name": "stdout",
     "output_type": "stream",
     "text": [
      "<class 'pandas.core.frame.DataFrame'>\n",
      "Index: 11087 entries, 0 to 11117\n",
      "Data columns (total 21 columns):\n",
      " #   Column                     Non-Null Count  Dtype  \n",
      "---  ------                     --------------  -----  \n",
      " 0   Unnamed: 0                 11087 non-null  int64  \n",
      " 1   case_number                11087 non-null  int64  \n",
      " 2   status                     11087 non-null  object \n",
      " 3   case_request               11087 non-null  object \n",
      " 4   case_subrequest            11087 non-null  object \n",
      " 5   additional_subrequest      11087 non-null  object \n",
      " 6   date_time_opened           11087 non-null  object \n",
      " 7   date_time_closed           10966 non-null  object \n",
      " 8   case_origin                11087 non-null  object \n",
      " 9   state_issue                11087 non-null  bool   \n",
      " 10  closed_when_created        11087 non-null  bool   \n",
      " 11  incident_address           11087 non-null  object \n",
      " 12  incident_city              11087 non-null  object \n",
      " 13  incident_council_district  11087 non-null  object \n",
      " 14  incident_zip_code          10906 non-null  float64\n",
      " 15  latitude                   11087 non-null  float64\n",
      " 16  longitude                  11087 non-null  float64\n",
      " 17  mapped_location            11087 non-null  object \n",
      " 18  contact_type               11087 non-null  object \n",
      " 19  parent_case                11087 non-null  object \n",
      " 20  preferred_language         11087 non-null  object \n",
      "dtypes: bool(2), float64(3), int64(2), object(14)\n",
      "memory usage: 1.7+ MB\n"
     ]
    }
   ],
   "source": [
    "nash_311.info()"
   ]
  },
  {
   "cell_type": "code",
   "execution_count": 21,
   "metadata": {},
   "outputs": [
    {
     "data": {
      "text/plain": [
       "case_request\n",
       "STREETS, ROADS & SIDEWALKS                4102\n",
       "PUBLIC SAFETY                             3375\n",
       "COVID-19                                   940\n",
       "TRASH, RECYCLING & LITTER                  913\n",
       "PROPERTY VIOLATIONS                        772\n",
       "TRANSIT                                    424\n",
       "RESOLVED BY HUBNASHVILLE ON FIRST CALL     198\n",
       "ELECTRIC & WATER GENERAL                   136\n",
       "OTHER METRO SERVICES AND FORMS              85\n",
       "PERMITS                                     41\n",
       "HANDS ON VOLUNTEERS                         40\n",
       "TREES                                       22\n",
       "PARKS                                       18\n",
       "OTHER                                        8\n",
       "PLANNING & ZONING                            6\n",
       "STORM RELIEF                                 3\n",
       "EDUCATION & LIBRARIES                        2\n",
       "PUBLIC RECORDS REQUEST                       1\n",
       "SOCIAL SERVICES & HOUSING                    1\n",
       "Name: count, dtype: int64"
      ]
     },
     "execution_count": 21,
     "metadata": {},
     "output_type": "execute_result"
    }
   ],
   "source": [
    "nash_311['case_request'].value_counts()"
   ]
  },
  {
   "cell_type": "markdown",
   "metadata": {},
   "source": [
    "Interestingly, there are almost 30,000 entries related to road and sidewalk conditions - over 4 times the number of crashes along the corridor... Let's dig into those."
   ]
  },
  {
   "cell_type": "code",
   "execution_count": 22,
   "metadata": {},
   "outputs": [
    {
     "data": {
      "text/plain": [
       "Series([], Name: count, dtype: int64)"
      ]
     },
     "execution_count": 22,
     "metadata": {},
     "output_type": "execute_result"
    }
   ],
   "source": [
    "nash_311[nash_311['case_request'] == 'Streets, Roads & Sidewalks']['case_subrequest'].value_counts()"
   ]
  },
  {
   "cell_type": "markdown",
   "metadata": {},
   "source": [
    "While there aren't many, several subcategories related to infrastructure issues include requests for improvements. Plotting those on a map and comparing against crash locations will tell us where residents think the problem areas are."
   ]
  },
  {
   "cell_type": "code",
   "execution_count": 23,
   "metadata": {},
   "outputs": [
    {
     "data": {
      "text/html": [
       "<div>\n",
       "<style scoped>\n",
       "    .dataframe tbody tr th:only-of-type {\n",
       "        vertical-align: middle;\n",
       "    }\n",
       "\n",
       "    .dataframe tbody tr th {\n",
       "        vertical-align: top;\n",
       "    }\n",
       "\n",
       "    .dataframe thead th {\n",
       "        text-align: right;\n",
       "    }\n",
       "</style>\n",
       "<table border=\"1\" class=\"dataframe\">\n",
       "  <thead>\n",
       "    <tr style=\"text-align: right;\">\n",
       "      <th></th>\n",
       "      <th>Unnamed: 0</th>\n",
       "      <th>case_number</th>\n",
       "      <th>status</th>\n",
       "      <th>case_request</th>\n",
       "      <th>case_subrequest</th>\n",
       "      <th>additional_subrequest</th>\n",
       "      <th>date_time_opened</th>\n",
       "      <th>date_time_closed</th>\n",
       "      <th>case_origin</th>\n",
       "      <th>state_issue</th>\n",
       "      <th>...</th>\n",
       "      <th>incident_address</th>\n",
       "      <th>incident_city</th>\n",
       "      <th>incident_council_district</th>\n",
       "      <th>incident_zip_code</th>\n",
       "      <th>latitude</th>\n",
       "      <th>longitude</th>\n",
       "      <th>mapped_location</th>\n",
       "      <th>contact_type</th>\n",
       "      <th>parent_case</th>\n",
       "      <th>preferred_language</th>\n",
       "    </tr>\n",
       "  </thead>\n",
       "  <tbody>\n",
       "  </tbody>\n",
       "</table>\n",
       "<p>0 rows × 21 columns</p>\n",
       "</div>"
      ],
      "text/plain": [
       "Empty DataFrame\n",
       "Columns: [Unnamed: 0, case_number, status, case_request, case_subrequest, additional_subrequest, date_time_opened, date_time_closed, case_origin, state_issue, closed_when_created, incident_address, incident_city, incident_council_district, incident_zip_code, latitude, longitude, mapped_location, contact_type, parent_case, preferred_language]\n",
       "Index: []\n",
       "\n",
       "[0 rows x 21 columns]"
      ]
     },
     "execution_count": 23,
     "metadata": {},
     "output_type": "execute_result"
    }
   ],
   "source": [
    "impr_requests = nash_311[nash_311['case_subrequest'].isin(['Request New Sign', 'Traffic Engineering', 'Paving Request', 'Request a Speed Monitor Trailer', 'Traffic Light Timing', 'Request New Signal', 'Traffic Calming', 'Request for a New/Improved Bikeway', 'Request Warning Sign'])]\n",
    "impr_requests.to_csv(('../data/clean/impr_requests.csv'))\n",
    "impr_requests.head()"
   ]
  },
  {
   "cell_type": "markdown",
   "metadata": {},
   "source": [
    "Another consideration is traffic signal equipment and whether or not proper pedestrian facilities exist."
   ]
  },
  {
   "cell_type": "code",
   "execution_count": 24,
   "metadata": {},
   "outputs": [
    {
     "name": "stdout",
     "output_type": "stream",
     "text": [
      "<class 'pandas.core.frame.DataFrame'>\n",
      "RangeIndex: 239 entries, 0 to 238\n",
      "Data columns (total 29 columns):\n",
      " #   Column           Non-Null Count  Dtype  \n",
      "---  ------           --------------  -----  \n",
      " 0   Unnamed: 0       239 non-null    int64  \n",
      " 1   intersectionid   239 non-null    int64  \n",
      " 2   onst             239 non-null    object \n",
      " 3   crst             239 non-null    object \n",
      " 4   quad             239 non-null    object \n",
      " 5   inspector        239 non-null    object \n",
      " 6   date             239 non-null    object \n",
      " 7   evnt_lat         238 non-null    float64\n",
      " 8   evnt_lon         238 non-null    float64\n",
      " 9   evnt_map         239 non-null    object \n",
      " 10  evnt_type        148 non-null    object \n",
      " 11  ped_signal_pres  239 non-null    bool   \n",
      " 12  oa_cmnt          239 non-null    object \n",
      " 13  mapped_location  238 non-null    object \n",
      " 14  cpl_size         148 non-null    object \n",
      " 15  cpl_force        148 non-null    object \n",
      " 16  cpl_op           148 non-null    object \n",
      " 17  cpl_ctrst        148 non-null    object \n",
      " 18  cpl_vis          148 non-null    object \n",
      " 19  cpl_aud          148 non-null    object \n",
      " 20  cmnt_1           72 non-null     object \n",
      " 21  cpl_ldg          148 non-null    object \n",
      " 22  cpl_prox         148 non-null    object \n",
      " 23  cpl_place        148 non-null    object \n",
      " 24  cpl_sep          148 non-null    object \n",
      " 25  cpl_hgt          148 non-null    float64\n",
      " 26  cpl_cw_1         148 non-null    float64\n",
      " 27  cpl_cw_2         147 non-null    float64\n",
      " 28  cmnt_2           64 non-null     object \n",
      "dtypes: bool(1), float64(5), int64(2), object(21)\n",
      "memory usage: 52.6+ KB\n"
     ]
    }
   ],
   "source": [
    "ped_inv = pd.read_csv('../data/clean/ped_inv.csv')\n",
    "ped_inv.info()"
   ]
  },
  {
   "cell_type": "markdown",
   "metadata": {},
   "source": [
    "Taking this to Tableau and comparing the number of injuries and number of vehicles involved in crashes relative to their locations, a few intersections are jumping out as \"hot spots\". See the tableau dashboard for more information."
   ]
  }
 ],
 "metadata": {
  "kernelspec": {
   "display_name": "geospatial",
   "language": "python",
   "name": "python3"
  },
  "language_info": {
   "codemirror_mode": {
    "name": "ipython",
    "version": 3
   },
   "file_extension": ".py",
   "mimetype": "text/x-python",
   "name": "python",
   "nbconvert_exporter": "python",
   "pygments_lexer": "ipython3",
   "version": "3.11.7"
  }
 },
 "nbformat": 4,
 "nbformat_minor": 2
}
