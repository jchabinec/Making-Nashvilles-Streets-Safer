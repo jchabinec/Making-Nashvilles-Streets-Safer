{
 "cells": [
  {
   "cell_type": "code",
   "execution_count": null,
   "metadata": {},
   "outputs": [],
   "source": []
  },
  {
   "cell_type": "code",
   "execution_count": null,
   "metadata": {},
   "outputs": [],
   "source": [
    "crash_data = pd.read_csv('../data/clean/crashes.csv')\n",
    "crash_data.describe()"
   ]
  },
  {
   "cell_type": "code",
   "execution_count": null,
   "metadata": {},
   "outputs": [],
   "source": [
    "crash_data.isna().sum(axis = 0)"
   ]
  },
  {
   "cell_type": "code",
   "execution_count": null,
   "metadata": {},
   "outputs": [],
   "source": [
    "null_loc = crash_data[crash_data.isnull().any(axis=1)]\n",
    "null_loc"
   ]
  },
  {
   "cell_type": "markdown",
   "metadata": {},
   "source": [
    "Location data is important for the first step of identifying \"hot spots\", so any nulls in these columns will need to be addressed. The records with nulls for location fields (`lat`, `long`, & `mapped_location`) do seem to be from actual events and not errors, but given that at the time of this analysis they represent 0.04% of the data, I don't believe removeing them will negatively impact the overall analysis."
   ]
  },
  {
   "cell_type": "code",
   "execution_count": null,
   "metadata": {},
   "outputs": [],
   "source": [
    "crash_data.dropna()"
   ]
  },
  {
   "cell_type": "markdown",
   "metadata": {},
   "source": [
    "Need to look at these on a map to find the crash \"hot spots\""
   ]
  },
  {
   "cell_type": "code",
   "execution_count": null,
   "metadata": {},
   "outputs": [],
   "source": [
    "county = gpd.read_file('../data/clean/Davidson County Border (GIS).geojson')\n",
    "# Use ID 0 for centroid\n",
    "center = county.geometry.centroid[0]\n",
    "map_center = [center.y, center.x]\n",
    "zipcodes = gpd.read_file('../data/clean/zipcodes.geojson')\n",
    "crash_data_geo = crash_data[['accident_number', 'lat', 'long']]\n",
    "crashes_geo = gpd.GeoDataFrame(crash_data_geo, crs= zipcodes.crs, geometry=gpd.points_from_xy(crash_data_geo.long, crash_data_geo.lat))"
   ]
  },
  {
   "cell_type": "code",
   "execution_count": null,
   "metadata": {},
   "outputs": [],
   "source": [
    "crashes_geo.dropna()"
   ]
  },
  {
   "cell_type": "code",
   "execution_count": null,
   "metadata": {},
   "outputs": [],
   "source": [
    "crashes_geo.isna().sum(axis = 0)"
   ]
  },
  {
   "cell_type": "code",
   "execution_count": null,
   "metadata": {},
   "outputs": [],
   "source": [
    "# Create the map\n",
    "all_crashes = folium.Map(location = map_center, tiles=\"Cartodb Positron\", zoom_start = 12)\n",
    "folium.GeoJson(zipcodes, style_function=lambda feature: {\"color\": \"black\", \"weight\": 2, \"dashArray\": \"10, 5\",\"fillOpacity\":0.5}).add_to(all_crashes)\n",
    "crashes = []\n",
    "for row_index, row_values in crashes_geo.iterrows():\n",
    "    loc = [row_values['lat'], row_values['long']]\n",
    "    crashes.append(loc)\n",
    "crashes\n",
    "\n",
    "HeatMap(crashes, radius = 15, min_opacity = 0.8, gradient={.8: '#ffc2c2', .95: '#ff7970', 1: '#ff0000'}).add_to(folium.FeatureGroup(name='Heat Map').add_to(all_crashes))\n",
    "folium.LayerControl().add_to(all_crashes)\n",
    "\n",
    "all_crashes.save('../maps/all_crashes.html')"
   ]
  },
  {
   "cell_type": "markdown",
   "metadata": {},
   "source": [
    "**For Reference**\n",
    "\n",
    "Syntax for SQL queries in Python:\n",
    "```\n",
    "query_name = '''\n",
    "(\n",
    "SQL syntax\n",
    ")\n",
    "'''\n",
    "\n",
    "with engine.connect() as connection:\n",
    "    counts = pd.read_sql(text(query_name), con = connection)\n",
    "```"
   ]
  }
 ],
 "metadata": {
  "kernelspec": {
   "display_name": "geospatial",
   "language": "python",
   "name": "python3"
  },
  "language_info": {
   "codemirror_mode": {
    "name": "ipython",
    "version": 3
   },
   "file_extension": ".py",
   "mimetype": "text/x-python",
   "name": "python",
   "nbconvert_exporter": "python",
   "pygments_lexer": "ipython3",
   "version": "3.10.13"
  }
 },
 "nbformat": 4,
 "nbformat_minor": 2
}
