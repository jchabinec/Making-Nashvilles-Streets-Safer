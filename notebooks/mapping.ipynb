{
 "cells": [
  {
   "cell_type": "code",
   "execution_count": null,
   "metadata": {},
   "outputs": [],
   "source": [
    "import pandas as pd\n",
    "import geopandas as gpd\n",
    "import folium\n",
    "from folium.plugins import MarkerCluster\n",
    "from folium.plugins import HeatMap\n",
    "import shapely as sp"
   ]
  },
  {
   "cell_type": "markdown",
   "metadata": {},
   "source": [
    "First, the corrdidor needs to be defined"
   ]
  },
  {
   "cell_type": "code",
   "execution_count": null,
   "metadata": {},
   "outputs": [],
   "source": [
    "study_corridor = sp.LineString([\n",
    "[36.172843, -86.765355],\n",
    "[36.177680, -86.752774],\n",
    "[36.178151, -86.751648],\n",
    "[36.178650, -86.750863],\n",
    "[36.179258, -86.750354],\n",
    "[36.179961, -86.749966],\n",
    "[36.191913, -86.744805],\n",
    "[36.203607, -86.738496],\n",
    "[36.205022, -86.737587],\n",
    "[36.206045, -86.736810],\n",
    "[36.210328, -86.733471],\n",
    "[36.215705, -86.729604],\n",
    "[36.216632, -86.729000],\n",
    "[36.222668, -86.725808],\n",
    "[36.232123, -86.724801],\n",
    "[36.234704, -86.724745]\n",
    "])\n",
    "corridor = sp.to_geojson(study_corridor)\n",
    "# So far only mapped from Spring St to Briley"
   ]
  },
  {
   "cell_type": "code",
   "execution_count": null,
   "metadata": {},
   "outputs": [],
   "source": [
    "zipcodes = gpd.read_file('../data/clean/zipcodes.geojson')\n",
    "zipcodes = zipcodes[zipcodes['zip'].isin(['37206', '37216', '37115'])]\n",
    "zipcodes\n",
    "center = zipcodes.geometry.centroid[1]\n",
    "map_center = [center.y, center.x]"
   ]
  },
  {
   "cell_type": "code",
   "execution_count": null,
   "metadata": {},
   "outputs": [],
   "source": [
    "all_crashes_no_hwys = pd.read_csv('../data/clean/all_crashes_no_hwys.csv')\n",
    "zipcodes = gpd.read_file('../data/clean/zipcodes.geojson')\n",
    "county = gpd.read_file('../data/clean/Davidson County Border (GIS).geojson')\n",
    "county"
   ]
  },
  {
   "cell_type": "markdown",
   "metadata": {},
   "source": [
    "Create a heat map of all the crashes "
   ]
  },
  {
   "cell_type": "code",
   "execution_count": null,
   "metadata": {},
   "outputs": [],
   "source": [
    "all_crashes_no_hwys = folium.Map(location = map_center, tiles=\"Cartodb Positron\", zoom_start = 12)\n",
    "\n",
    "folium.GeoJson(zipcodes, style_function=lambda feature: {\"color\": \"black\", \"weight\": 2, \"dashArray\": \"10, 5\",\"fillOpacity\":0.125}).add_to(all_crashes_no_hwys)\n",
    "\n",
    "crashes = []\n",
    "for row_index, row_values in crashes_no_hwys_geo.iterrows():\n",
    "    loc = [row_values['lat'], row_values['long']]\n",
    "    crashes.append(loc)\n",
    "crashes\n",
    "\n",
    "HeatMap(crashes, radius = 15, min_opacity = 0.5, gradient={.5: '#ffc2c2', .75: '#ff7970', 1: '#ff0000'}).add_to(folium.FeatureGroup(name='Heat Map').add_to(all_crashes_no_hwys))\n",
    "folium.LayerControl().add_to(all_crashes_no_hwys)\n",
    "\n",
    "all_crashes_no_hwys.save('../maps/all_crashes_no_hwys.html')"
   ]
  },
  {
   "cell_type": "markdown",
   "metadata": {},
   "source": [
    "Updating the map to differentiate collision types."
   ]
  },
  {
   "cell_type": "markdown",
   "metadata": {},
   "source": [
    "Now let's see where there are 311 requests along the corridor."
   ]
  },
  {
   "cell_type": "code",
   "execution_count": null,
   "metadata": {},
   "outputs": [],
   "source": [
    "nash_311 = pd.read_csv('../data/clean/nash_311.csv')"
   ]
  },
  {
   "cell_type": "code",
   "execution_count": null,
   "metadata": {},
   "outputs": [],
   "source": [
    "nash_311_geo = nash_311[['case_number', 'latitude', 'longitude']]\n",
    "nash_311_geo = gpd.GeoDataFrame(nash_311_geo, crs= zipcodes.crs, geometry=gpd.points_from_xy(nash_311_geo.longitude, nash_311_geo.latitude))"
   ]
  },
  {
   "cell_type": "code",
   "execution_count": null,
   "metadata": {},
   "outputs": [],
   "source": [
    "nash_311 = folium.Map(location = map_center, tiles=\"Cartodb Positron\", zoom_start = 12)\n",
    "\n",
    "folium.GeoJson(zipcodes, style_function=lambda feature: {\"color\": \"black\", \"weight\": 2, \"dashArray\": \"10, 5\",\"fillOpacity\":0.125}).add_to(nash_311)\n",
    "\n",
    "requests_311 = []\n",
    "for row_index, row_values in nash_311_geo.iterrows():\n",
    "    loc = [row_values['latitude'], row_values['longitude']]\n",
    "    requests_311.append(loc)\n",
    "requests_311\n",
    "\n",
    "HeatMap(requests_311, radius = 15, min_opacity = 0.5, gradient={.5: '#98ABEE', .75: '#1D24CA', 1: '#201658'}).add_to(folium.FeatureGroup(name='Heat Map').add_to(nash_311))\n",
    "folium.LayerControl().add_to(nash_311)\n",
    "\n",
    "nash_311.save('../maps/nash_311.html')"
   ]
  }
 ],
 "metadata": {
  "kernelspec": {
   "display_name": "base",
   "language": "python",
   "name": "python3"
  },
  "language_info": {
   "codemirror_mode": {
    "name": "ipython",
    "version": 3
   },
   "file_extension": ".py",
   "mimetype": "text/x-python",
   "name": "python",
   "nbconvert_exporter": "python",
   "pygments_lexer": "ipython3",
   "version": "3.10.13"
  }
 },
 "nbformat": 4,
 "nbformat_minor": 2
}
