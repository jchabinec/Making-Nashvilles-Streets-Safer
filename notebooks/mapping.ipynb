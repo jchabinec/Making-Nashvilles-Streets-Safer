{
 "cells": [
  {
   "cell_type": "code",
   "execution_count": 1,
   "metadata": {},
   "outputs": [],
   "source": [
    "import pandas as pd\n",
    "import geopandas as gpd\n",
    "import folium\n",
    "from folium.plugins import MarkerCluster\n",
    "from folium.plugins import HeatMap\n",
    "import shapely as sp\n",
    "from shapely.geometry import Point, LineString, Polygon"
   ]
  },
  {
   "cell_type": "code",
   "execution_count": 2,
   "metadata": {},
   "outputs": [
    {
     "name": "stderr",
     "output_type": "stream",
     "text": [
      "C:\\Users\\chabi\\AppData\\Local\\Temp\\ipykernel_20580\\598183039.py:4: UserWarning: Geometry is in a geographic CRS. Results from 'centroid' are likely incorrect. Use 'GeoSeries.to_crs()' to re-project geometries to a projected CRS before this operation.\n",
      "\n",
      "  center = zipcodes.geometry.centroid[1]\n"
     ]
    }
   ],
   "source": [
    "zipcodes = gpd.read_file('../data/clean/zipcodes.geojson')\n",
    "zipcodes = zipcodes[zipcodes['zip'].isin(['37206', '37216', '37115'])]\n",
    "zipcodes\n",
    "center = zipcodes.geometry.centroid[1]\n",
    "map_center = [center.y, center.x]"
   ]
  },
  {
   "cell_type": "code",
   "execution_count": 10,
   "metadata": {},
   "outputs": [],
   "source": [
    "crashes = pd.read_csv('../data/clean/crashes.csv')\n",
    "crashes = crashes[['accident_number', 'lat', 'long']]\n",
    "crashes_geo = gpd.GeoDataFrame(crashes, crs= zipcodes.crs, geometry=gpd.points_from_xy(crashes.long, crashes.lat))"
   ]
  },
  {
   "cell_type": "markdown",
   "metadata": {},
   "source": [
    "Create a heat map of all the crashes in the study area."
   ]
  },
  {
   "cell_type": "code",
   "execution_count": 11,
   "metadata": {},
   "outputs": [],
   "source": [
    "all_crashes = folium.Map(location = map_center, tiles=\"Cartodb Positron\", zoom_start = 12)\n",
    "\n",
    "folium.GeoJson(zipcodes, style_function=lambda feature: {\"color\": \"black\", \"weight\": 2, \"dashArray\": \"10, 5\",\"fillOpacity\":0.125}).add_to(all_crashes)\n",
    "\n",
    "crashes = []\n",
    "for row_index, row_values in crashes_geo.iterrows():\n",
    "    loc = [row_values['lat'], row_values['long']]\n",
    "    crashes.append(loc)\n",
    "crashes\n",
    "\n",
    "HeatMap(crashes, radius = 15, min_opacity = 0.5, gradient={.5: '#ffc2c2', .75: '#ff7970', 1: '#ff0000'}).add_to(folium.FeatureGroup(name='Heat Map').add_to(all_crashes))\n",
    "folium.LayerControl().add_to(all_crashes)\n",
    "\n",
    "all_crashes.save('../maps/all_crashes.html')"
   ]
  },
  {
   "cell_type": "markdown",
   "metadata": {},
   "source": [
    "Updating the map to differentiate collision types."
   ]
  },
  {
   "cell_type": "markdown",
   "metadata": {},
   "source": [
    "Now let's see where there are 311 requests along the corridor."
   ]
  },
  {
   "cell_type": "code",
   "execution_count": null,
   "metadata": {},
   "outputs": [],
   "source": [
    "nash_311 = pd.read_csv('../data/clean/nash_311.csv')"
   ]
  },
  {
   "cell_type": "code",
   "execution_count": null,
   "metadata": {},
   "outputs": [],
   "source": [
    "nash_311_geo = nash_311[['case_number', 'latitude', 'longitude']]\n",
    "nash_311_geo = gpd.GeoDataFrame(nash_311, crs= zipcodes.crs, geometry=gpd.points_from_xy(nash_311.longitude, nash_311.latitude))"
   ]
  },
  {
   "cell_type": "code",
   "execution_count": null,
   "metadata": {},
   "outputs": [],
   "source": [
    "nash_311 = folium.Map(location = map_center, tiles=\"Cartodb Positron\", zoom_start = 12)\n",
    "\n",
    "folium.GeoJson(zipcodes, style_function=lambda feature: {\"color\": \"black\", \"weight\": 2, \"dashArray\": \"10, 5\",\"fillOpacity\":0.125}).add_to(nash_311)\n",
    "\n",
    "requests_311 = []\n",
    "for row_index, row_values in nash_311_geo.iterrows():\n",
    "    loc = [row_values['latitude'], row_values['longitude']]\n",
    "    requests_311.append(loc)\n",
    "requests_311\n",
    "\n",
    "HeatMap(requests_311, radius = 15, min_opacity = 0.5, gradient={.5: '#98ABEE', .75: '#1D24CA', 1: '#201658'}).add_to(folium.FeatureGroup(name='Heat Map').add_to(nash_311))\n",
    "folium.LayerControl().add_to(nash_311)\n",
    "\n",
    "nash_311.save('../maps/nash_311.html')"
   ]
  }
 ],
 "metadata": {
  "kernelspec": {
   "display_name": "base",
   "language": "python",
   "name": "python3"
  },
  "language_info": {
   "codemirror_mode": {
    "name": "ipython",
    "version": 3
   },
   "file_extension": ".py",
   "mimetype": "text/x-python",
   "name": "python",
   "nbconvert_exporter": "python",
   "pygments_lexer": "ipython3",
   "version": "3.10.13"
  }
 },
 "nbformat": 4,
 "nbformat_minor": 2
}
