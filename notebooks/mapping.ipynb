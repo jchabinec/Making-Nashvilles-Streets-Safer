{
 "cells": [
  {
   "cell_type": "code",
   "execution_count": 1,
   "metadata": {},
   "outputs": [],
   "source": [
    "import pandas as pd\n",
    "import geopandas as gpd\n",
    "import folium\n",
    "from folium.plugins import MarkerCluster\n",
    "from folium.plugins import HeatMap"
   ]
  },
  {
   "cell_type": "markdown",
   "metadata": {},
   "source": [
    "Start with the Nashville zipcode outlines and the Davidson County Boundary, then find the centroid of the county to center the map with."
   ]
  },
  {
   "cell_type": "code",
   "execution_count": 2,
   "metadata": {},
   "outputs": [
    {
     "data": {
      "text/html": [
       "<div>\n",
       "<style scoped>\n",
       "    .dataframe tbody tr th:only-of-type {\n",
       "        vertical-align: middle;\n",
       "    }\n",
       "\n",
       "    .dataframe tbody tr th {\n",
       "        vertical-align: top;\n",
       "    }\n",
       "\n",
       "    .dataframe thead th {\n",
       "        text-align: right;\n",
       "    }\n",
       "</style>\n",
       "<table border=\"1\" class=\"dataframe\">\n",
       "  <thead>\n",
       "    <tr style=\"text-align: right;\">\n",
       "      <th></th>\n",
       "      <th>area_sq_mi</th>\n",
       "      <th>objectid</th>\n",
       "      <th>shape_area</th>\n",
       "      <th>shape_len</th>\n",
       "      <th>geometry</th>\n",
       "    </tr>\n",
       "  </thead>\n",
       "  <tbody>\n",
       "    <tr>\n",
       "      <th>0</th>\n",
       "      <td>525</td>\n",
       "      <td>4</td>\n",
       "      <td>14641027913.6</td>\n",
       "      <td>686109.334953</td>\n",
       "      <td>MULTIPOLYGON (((-86.52704 36.13598, -86.52914 ...</td>\n",
       "    </tr>\n",
       "    <tr>\n",
       "      <th>1</th>\n",
       "      <td>0</td>\n",
       "      <td>3</td>\n",
       "      <td>675823.52</td>\n",
       "      <td>3786.70930403</td>\n",
       "      <td>MULTIPOLYGON (((-86.52315 36.13876, -86.52288 ...</td>\n",
       "    </tr>\n",
       "  </tbody>\n",
       "</table>\n",
       "</div>"
      ],
      "text/plain": [
       "  area_sq_mi objectid     shape_area      shape_len  \\\n",
       "0        525        4  14641027913.6  686109.334953   \n",
       "1          0        3      675823.52  3786.70930403   \n",
       "\n",
       "                                            geometry  \n",
       "0  MULTIPOLYGON (((-86.52704 36.13598, -86.52914 ...  \n",
       "1  MULTIPOLYGON (((-86.52315 36.13876, -86.52288 ...  "
      ]
     },
     "execution_count": 2,
     "metadata": {},
     "output_type": "execute_result"
    }
   ],
   "source": [
    "all_crashes = pd.read_csv('../data/clean/all_crashes_maps.csv')\n",
    "zipcodes = gpd.read_file('../data/clean/zipcodes.geojson')\n",
    "county = gpd.read_file('../data/clean/Davidson County Border (GIS).geojson')\n",
    "county"
   ]
  },
  {
   "cell_type": "code",
   "execution_count": 3,
   "metadata": {},
   "outputs": [
    {
     "name": "stderr",
     "output_type": "stream",
     "text": [
      "C:\\Users\\chabi\\AppData\\Local\\Temp\\ipykernel_9316\\3216260469.py:3: UserWarning: Geometry is in a geographic CRS. Results from 'centroid' are likely incorrect. Use 'GeoSeries.to_crs()' to re-project geometries to a projected CRS before this operation.\n",
      "\n",
      "  center = county.geometry.centroid[0]\n"
     ]
    }
   ],
   "source": [
    "county = gpd.read_file('../data/clean/Davidson County Border (GIS).geojson')\n",
    "# Use ID 0 for centroid\n",
    "center = county.geometry.centroid[0]\n",
    "map_center = [center.y, center.x]\n",
    "zipcodes = gpd.read_file('../data/clean/zipcodes.geojson')\n",
    "crash_data_geo = all_crashes[['accident_number', 'lat', 'long']]\n",
    "crashes_geo = gpd.GeoDataFrame(crash_data_geo, crs= zipcodes.crs, geometry=gpd.points_from_xy(crash_data_geo.long, crash_data_geo.lat))"
   ]
  },
  {
   "cell_type": "markdown",
   "metadata": {},
   "source": [
    "Nothing jumping out as a hot spot from te hheatmap. Try using a marker cluster."
   ]
  },
  {
   "cell_type": "code",
   "execution_count": 4,
   "metadata": {},
   "outputs": [],
   "source": [
    "all_crashes_cluster = folium.Map(location = map_center, zoom_start = 10)\n",
    "\n",
    "marker_cluster = MarkerCluster().add_to(all_crashes_cluster)\n",
    "\n",
    "folium.GeoJson(zipcodes).add_to(all_crashes_cluster)\n",
    "\n",
    "for row_index, row_values in crashes_geo.iterrows():\n",
    "    loc = [row_values['lat'], row_values['long']]\n",
    "    icon=folium.Icon(color=\"orange\",icon=\"exclamation-triangle\", prefix='fa')\n",
    "    \n",
    "    marker = folium.Marker(\n",
    "        location = loc, \n",
    "    icon = icon) \n",
    "    \n",
    "    marker.add_to(marker_cluster)\n",
    "\n",
    "all_crashes_cluster.save('../maps/all_crashes_cluster.html')"
   ]
  }
 ],
 "metadata": {
  "kernelspec": {
   "display_name": "base",
   "language": "python",
   "name": "python3"
  },
  "language_info": {
   "codemirror_mode": {
    "name": "ipython",
    "version": 3
   },
   "file_extension": ".py",
   "mimetype": "text/x-python",
   "name": "python",
   "nbconvert_exporter": "python",
   "pygments_lexer": "ipython3",
   "version": "3.10.13"
  }
 },
 "nbformat": 4,
 "nbformat_minor": 2
}
