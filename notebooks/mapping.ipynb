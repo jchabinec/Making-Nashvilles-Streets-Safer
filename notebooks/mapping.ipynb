{
 "cells": [
  {
   "cell_type": "code",
   "execution_count": 1,
   "metadata": {},
   "outputs": [],
   "source": [
    "import pandas as pd\n",
    "import geopandas as gpd\n",
    "import folium\n",
    "from folium.plugins import MarkerCluster\n",
    "from folium.plugins import HeatMap"
   ]
  },
  {
   "cell_type": "markdown",
   "metadata": {},
   "source": [
    "Start with the Nashville zipcode outlines and the Davidson County Boundary, then find the centroid of the county to center the map with."
   ]
  },
  {
   "cell_type": "code",
   "execution_count": 2,
   "metadata": {},
   "outputs": [
    {
     "data": {
      "text/html": [
       "<div>\n",
       "<style scoped>\n",
       "    .dataframe tbody tr th:only-of-type {\n",
       "        vertical-align: middle;\n",
       "    }\n",
       "\n",
       "    .dataframe tbody tr th {\n",
       "        vertical-align: top;\n",
       "    }\n",
       "\n",
       "    .dataframe thead th {\n",
       "        text-align: right;\n",
       "    }\n",
       "</style>\n",
       "<table border=\"1\" class=\"dataframe\">\n",
       "  <thead>\n",
       "    <tr style=\"text-align: right;\">\n",
       "      <th></th>\n",
       "      <th>area_sq_mi</th>\n",
       "      <th>objectid</th>\n",
       "      <th>shape_area</th>\n",
       "      <th>shape_len</th>\n",
       "      <th>geometry</th>\n",
       "    </tr>\n",
       "  </thead>\n",
       "  <tbody>\n",
       "    <tr>\n",
       "      <th>0</th>\n",
       "      <td>525</td>\n",
       "      <td>4</td>\n",
       "      <td>14641027913.6</td>\n",
       "      <td>686109.334953</td>\n",
       "      <td>MULTIPOLYGON (((-86.52704 36.13598, -86.52914 ...</td>\n",
       "    </tr>\n",
       "    <tr>\n",
       "      <th>1</th>\n",
       "      <td>0</td>\n",
       "      <td>3</td>\n",
       "      <td>675823.52</td>\n",
       "      <td>3786.70930403</td>\n",
       "      <td>MULTIPOLYGON (((-86.52315 36.13876, -86.52288 ...</td>\n",
       "    </tr>\n",
       "  </tbody>\n",
       "</table>\n",
       "</div>"
      ],
      "text/plain": [
       "  area_sq_mi objectid     shape_area      shape_len  \\\n",
       "0        525        4  14641027913.6  686109.334953   \n",
       "1          0        3      675823.52  3786.70930403   \n",
       "\n",
       "                                            geometry  \n",
       "0  MULTIPOLYGON (((-86.52704 36.13598, -86.52914 ...  \n",
       "1  MULTIPOLYGON (((-86.52315 36.13876, -86.52288 ...  "
      ]
     },
     "execution_count": 2,
     "metadata": {},
     "output_type": "execute_result"
    }
   ],
   "source": [
    "all_crashes_no_hwys = pd.read_csv('../data/clean/all_crashes_no_hwys.csv')\n",
    "zipcodes = gpd.read_file('../data/clean/zipcodes.geojson')\n",
    "county = gpd.read_file('../data/clean/Davidson County Border (GIS).geojson')\n",
    "county"
   ]
  },
  {
   "cell_type": "code",
   "execution_count": 3,
   "metadata": {},
   "outputs": [
    {
     "name": "stderr",
     "output_type": "stream",
     "text": [
      "C:\\Users\\chabi\\AppData\\Local\\Temp\\ipykernel_9460\\692615409.py:3: UserWarning: Geometry is in a geographic CRS. Results from 'centroid' are likely incorrect. Use 'GeoSeries.to_crs()' to re-project geometries to a projected CRS before this operation.\n",
      "\n",
      "  center = county.geometry.centroid[0]\n"
     ]
    }
   ],
   "source": [
    "county = gpd.read_file('../data/clean/Davidson County Border (GIS).geojson')\n",
    "# Use ID 0 for centroid\n",
    "center = county.geometry.centroid[0]\n",
    "map_center = [center.y, center.x]\n",
    "zipcodes = gpd.read_file('../data/clean/zipcodes.geojson')\n",
    "all_crashes_no_hwys_geo = all_crashes_no_hwys[['accident_number', 'lat', 'long']]\n",
    "crashes_no_hwys_geo = gpd.GeoDataFrame(all_crashes_no_hwys_geo, crs= zipcodes.crs, geometry=gpd.points_from_xy(all_crashes_no_hwys_geo.long, all_crashes_no_hwys_geo.lat))"
   ]
  },
  {
   "cell_type": "markdown",
   "metadata": {},
   "source": [
    "Create a heat map of all the crashes "
   ]
  },
  {
   "cell_type": "code",
   "execution_count": 4,
   "metadata": {},
   "outputs": [],
   "source": [
    "all_crashes_no_hwys = folium.Map(location = map_center, tiles=\"Cartodb Positron\", zoom_start = 12)\n",
    "\n",
    "folium.GeoJson(zipcodes, style_function=lambda feature: {\"color\": \"black\", \"weight\": 2, \"dashArray\": \"10, 5\",\"fillOpacity\":0.125}).add_to(all_crashes_no_hwys)\n",
    "\n",
    "crashes = []\n",
    "for row_index, row_values in crashes_no_hwys_geo.iterrows():\n",
    "    loc = [row_values['lat'], row_values['long']]\n",
    "    crashes.append(loc)\n",
    "crashes\n",
    "\n",
    "HeatMap(crashes, radius = 15, min_opacity = 0.5, gradient={.5: '#ffc2c2', .75: '#ff7970', 1: '#ff0000'}).add_to(folium.FeatureGroup(name='Heat Map').add_to(all_crashes_no_hwys))\n",
    "folium.LayerControl().add_to(all_crashes_no_hwys)\n",
    "\n",
    "all_crashes_no_hwys.save('../maps/all_crashes_no_hwys.html')"
   ]
  },
  {
   "cell_type": "markdown",
   "metadata": {},
   "source": [
    "Now let's see where there are 311 requests along the corridor."
   ]
  },
  {
   "cell_type": "code",
   "execution_count": 5,
   "metadata": {},
   "outputs": [],
   "source": [
    "nash_311 = pd.read_csv('../data/clean/nash_311.csv')"
   ]
  },
  {
   "cell_type": "code",
   "execution_count": 6,
   "metadata": {},
   "outputs": [],
   "source": [
    "nash_311_geo = nash_311[['case_number', 'latitude', 'longitude']]\n",
    "nash_311_geo = gpd.GeoDataFrame(nash_311_geo, crs= zipcodes.crs, geometry=gpd.points_from_xy(nash_311_geo.longitude, nash_311_geo.latitude))"
   ]
  },
  {
   "cell_type": "code",
   "execution_count": 7,
   "metadata": {},
   "outputs": [],
   "source": [
    "nash_311 = folium.Map(location = map_center, tiles=\"Cartodb Positron\", zoom_start = 12)\n",
    "\n",
    "folium.GeoJson(zipcodes, style_function=lambda feature: {\"color\": \"black\", \"weight\": 2, \"dashArray\": \"10, 5\",\"fillOpacity\":0.125}).add_to(nash_311)\n",
    "\n",
    "requests_311 = []\n",
    "for row_index, row_values in nash_311_geo.iterrows():\n",
    "    loc = [row_values['latitude'], row_values['longitude']]\n",
    "    requests_311.append(loc)\n",
    "requests_311\n",
    "\n",
    "HeatMap(requests_311, radius = 15, min_opacity = 0.5, gradient={.5: '#98ABEE', .75: '#1D24CA', 1: '#201658'}).add_to(folium.FeatureGroup(name='Heat Map').add_to(nash_311))\n",
    "folium.LayerControl().add_to(nash_311)\n",
    "\n",
    "nash_311.save('../maps/nash_311.html')"
   ]
  },
  {
   "cell_type": "markdown",
   "metadata": {},
   "source": [
    "Hmm, It looks like there are some clusters of 311 requests around intersections, particularly in the 37206 zip code. Overlaying the two datasets on top of each other might identify some correlations there."
   ]
  },
  {
   "cell_type": "code",
   "execution_count": 20,
   "metadata": {},
   "outputs": [],
   "source": [
    "crashes_vs_311 = folium.Map(location = map_center, tiles=\"Cartodb Positron\", zoom_start = 12)\n",
    "\n",
    "folium.GeoJson(zipcodes, style_function=lambda feature: {\"color\": \"black\", \"weight\": 2, \"dashArray\": \"10, 5\",\"fillOpacity\":0.125}).add_to(crashes_vs_311)\n",
    "\n",
    "crashes = []\n",
    "for row_index, row_values in crashes_no_hwys_geo.iterrows():\n",
    "    loc = [row_values['lat'], row_values['long']]\n",
    "    crashes.append(loc)\n",
    "crashes\n",
    "\n",
    "HeatMap(crashes, radius = 15, min_opacity = 0.5, gradient={.5: '#ffc2c2', .75: '#ff7970', 1: '#ff0000'}).add_to(folium.FeatureGroup(name='Crashes'))\n",
    "\n",
    "requests_311 = []\n",
    "for row_index, row_values in nash_311_geo.iterrows():\n",
    "    loc = [row_values['latitude'], row_values['longitude']]\n",
    "    requests_311.append(loc)\n",
    "requests_311\n",
    "\n",
    "HeatMap(requests_311, radius = 15, min_opacity = 0.5, gradient={.5: '#98ABEE', .75: '#1D24CA', 1: '#201658'}).add_to(folium.FeatureGroup(name='311 Requests'))\n",
    "\n",
    "folium.LayerControl('Crashes').add_to(crashes_vs_311)\n",
    "\n",
    "crashes_vs_311.save('../maps/crashes_vs_311.html')"
   ]
  }
 ],
 "metadata": {
  "kernelspec": {
   "display_name": "base",
   "language": "python",
   "name": "python3"
  },
  "language_info": {
   "codemirror_mode": {
    "name": "ipython",
    "version": 3
   },
   "file_extension": ".py",
   "mimetype": "text/x-python",
   "name": "python",
   "nbconvert_exporter": "python",
   "pygments_lexer": "ipython3",
   "version": "3.10.13"
  }
 },
 "nbformat": 4,
 "nbformat_minor": 2
}
